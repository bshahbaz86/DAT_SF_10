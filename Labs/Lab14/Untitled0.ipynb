{
 "metadata": {
  "name": "",
  "signature": "sha256:f352988fce49a4c3cd6eea2901823a35908247510113c526a8b7ca8a8f54a968"
 },
 "nbformat": 3,
 "nbformat_minor": 0,
 "worksheets": [
  {
   "cells": [
    {
     "cell_type": "code",
     "collapsed": false,
     "input": [
      "from simple_salesforce import Salesforce\n",
      "sf = Salesforce(password='bes18911', username='bshahbaz@salesforce.com.eiapidev', organizationId='00Dn0000000DEI4')"
     ],
     "language": "python",
     "metadata": {},
     "outputs": [
      {
       "ename": "ImportError",
       "evalue": "No module named simple_salesforce",
       "output_type": "pyerr",
       "traceback": [
        "\u001b[0;31m---------------------------------------------------------------------------\u001b[0m\n\u001b[0;31mImportError\u001b[0m                               Traceback (most recent call last)",
        "\u001b[0;32m<ipython-input-1-522fd041c256>\u001b[0m in \u001b[0;36m<module>\u001b[0;34m()\u001b[0m\n\u001b[0;32m----> 1\u001b[0;31m \u001b[0;32mfrom\u001b[0m \u001b[0msimple_salesforce\u001b[0m \u001b[0;32mimport\u001b[0m \u001b[0mSalesforce\u001b[0m\u001b[0;34m\u001b[0m\u001b[0m\n\u001b[0m\u001b[1;32m      2\u001b[0m \u001b[0msf\u001b[0m \u001b[0;34m=\u001b[0m \u001b[0mSalesforce\u001b[0m\u001b[0;34m(\u001b[0m\u001b[0mpassword\u001b[0m\u001b[0;34m=\u001b[0m\u001b[0;34m'bes18911'\u001b[0m\u001b[0;34m,\u001b[0m \u001b[0musername\u001b[0m\u001b[0;34m=\u001b[0m\u001b[0;34m'bshahbaz@salesforce.com.eiapidev'\u001b[0m\u001b[0;34m,\u001b[0m \u001b[0morganizationId\u001b[0m\u001b[0;34m=\u001b[0m\u001b[0;34m'00Dn0000000DEI4'\u001b[0m\u001b[0;34m)\u001b[0m\u001b[0;34m\u001b[0m\u001b[0m\n",
        "\u001b[0;31mImportError\u001b[0m: No module named simple_salesforce"
       ]
      }
     ],
     "prompt_number": 1
    },
    {
     "cell_type": "code",
     "collapsed": false,
     "input": [
      "! pip install simple-salesforce"
     ],
     "language": "python",
     "metadata": {},
     "outputs": [
      {
       "output_type": "stream",
       "stream": "stdout",
       "text": [
        "Downloading/unpacking simple-salesforce\r\n"
       ]
      },
      {
       "output_type": "stream",
       "stream": "stdout",
       "text": [
        "  Downloading simple-salesforce-0.65.1.tar.gz\r\n"
       ]
      },
      {
       "output_type": "stream",
       "stream": "stdout",
       "text": [
        "  Running setup.py (path:/private/var/folders/vp/07qpqbg113v6pk4n35l1815nfr0yyt/T/pip_build_bshahbaz/simple-salesforce/setup.py) egg_info for package simple-salesforce\r\n"
       ]
      },
      {
       "output_type": "stream",
       "stream": "stdout",
       "text": [
        "    \r\n"
       ]
      },
      {
       "output_type": "stream",
       "stream": "stdout",
       "text": [
        "Requirement already satisfied (use --upgrade to upgrade): requests in /Users/bshahbaz/anaconda/lib/python2.7/site-packages (from simple-salesforce)\r\n",
        "Installing collected packages: simple-salesforce\r\n",
        "  Running setup.py install for simple-salesforce\r\n"
       ]
      },
      {
       "output_type": "stream",
       "stream": "stdout",
       "text": [
        "    \r\n"
       ]
      },
      {
       "output_type": "stream",
       "stream": "stdout",
       "text": [
        "Successfully installed simple-salesforce\r\n",
        "Cleaning up...\r\n"
       ]
      }
     ],
     "prompt_number": 2
    },
    {
     "cell_type": "code",
     "collapsed": false,
     "input": [
      "from simple_salesforce import Salesforce\n",
      "sf = Salesforce(password='bea18911', username='bshahbaz@salesforce.com.eiapidev', organizationId='00Dn0000000DEI4')"
     ],
     "language": "python",
     "metadata": {},
     "outputs": [
      {
       "ename": "SalesforceAuthenticationFailed",
       "evalue": "INVALID_LOGIN: Invalid username, password, security token; or user locked out.",
       "output_type": "pyerr",
       "traceback": [
        "\u001b[0;31m---------------------------------------------------------------------------\u001b[0m\n\u001b[0;31mSalesforceAuthenticationFailed\u001b[0m            Traceback (most recent call last)",
        "\u001b[0;32m<ipython-input-6-4e600b668623>\u001b[0m in \u001b[0;36m<module>\u001b[0;34m()\u001b[0m\n\u001b[1;32m      1\u001b[0m \u001b[0;32mfrom\u001b[0m \u001b[0msimple_salesforce\u001b[0m \u001b[0;32mimport\u001b[0m \u001b[0mSalesforce\u001b[0m\u001b[0;34m\u001b[0m\u001b[0m\n\u001b[0;32m----> 2\u001b[0;31m \u001b[0msf\u001b[0m \u001b[0;34m=\u001b[0m \u001b[0mSalesforce\u001b[0m\u001b[0;34m(\u001b[0m\u001b[0mpassword\u001b[0m\u001b[0;34m=\u001b[0m\u001b[0;34m'bea18911'\u001b[0m\u001b[0;34m,\u001b[0m \u001b[0musername\u001b[0m\u001b[0;34m=\u001b[0m\u001b[0;34m'bshahbaz@salesforce.com.eiapidev'\u001b[0m\u001b[0;34m,\u001b[0m \u001b[0morganizationId\u001b[0m\u001b[0;34m=\u001b[0m\u001b[0;34m'00Dn0000000DEI4'\u001b[0m\u001b[0;34m)\u001b[0m\u001b[0;34m\u001b[0m\u001b[0m\n\u001b[0m",
        "\u001b[0;32m/Users/bshahbaz/anaconda/lib/python2.7/site-packages/simple_salesforce/api.pyc\u001b[0m in \u001b[0;36m__init__\u001b[0;34m(self, **kwargs)\u001b[0m\n\u001b[1;32m     98\u001b[0m                 \u001b[0msandbox\u001b[0m\u001b[0;34m=\u001b[0m\u001b[0mself\u001b[0m\u001b[0;34m.\u001b[0m\u001b[0msandbox\u001b[0m\u001b[0;34m,\u001b[0m\u001b[0;34m\u001b[0m\u001b[0m\n\u001b[1;32m     99\u001b[0m                 \u001b[0msf_version\u001b[0m\u001b[0;34m=\u001b[0m\u001b[0mself\u001b[0m\u001b[0;34m.\u001b[0m\u001b[0msf_version\u001b[0m\u001b[0;34m,\u001b[0m\u001b[0;34m\u001b[0m\u001b[0m\n\u001b[0;32m--> 100\u001b[0;31m                 proxies=self.proxies)\n\u001b[0m\u001b[1;32m    101\u001b[0m \u001b[0;34m\u001b[0m\u001b[0m\n\u001b[1;32m    102\u001b[0m         \u001b[0;32melse\u001b[0m\u001b[0;34m:\u001b[0m\u001b[0;34m\u001b[0m\u001b[0m\n",
        "\u001b[0;32m/Users/bshahbaz/anaconda/lib/python2.7/site-packages/simple_salesforce/login.pyc\u001b[0m in \u001b[0;36mSalesforceLogin\u001b[0;34m(**kwargs)\u001b[0m\n\u001b[1;32m    113\u001b[0m             response.content, 'sf:exceptionMessage')\n\u001b[1;32m    114\u001b[0m         raise SalesforceAuthenticationFailed('{code}: {message}'.format(\n\u001b[0;32m--> 115\u001b[0;31m             code=except_code, message=except_msg))\n\u001b[0m\u001b[1;32m    116\u001b[0m \u001b[0;34m\u001b[0m\u001b[0m\n\u001b[1;32m    117\u001b[0m     \u001b[0msession_id\u001b[0m \u001b[0;34m=\u001b[0m \u001b[0mgetUniqueElementValueFromXmlString\u001b[0m\u001b[0;34m(\u001b[0m\u001b[0mresponse\u001b[0m\u001b[0;34m.\u001b[0m\u001b[0mcontent\u001b[0m\u001b[0;34m,\u001b[0m \u001b[0;34m'sessionId'\u001b[0m\u001b[0;34m)\u001b[0m\u001b[0;34m\u001b[0m\u001b[0m\n",
        "\u001b[0;31mSalesforceAuthenticationFailed\u001b[0m: INVALID_LOGIN: Invalid username, password, security token; or user locked out."
       ]
      }
     ],
     "prompt_number": 6
    },
    {
     "cell_type": "code",
     "collapsed": false,
     "input": [
      "sf"
     ],
     "language": "python",
     "metadata": {},
     "outputs": []
    },
    {
     "cell_type": "code",
     "collapsed": false,
     "input": [],
     "language": "python",
     "metadata": {},
     "outputs": []
    }
   ],
   "metadata": {}
  }
 ]
}