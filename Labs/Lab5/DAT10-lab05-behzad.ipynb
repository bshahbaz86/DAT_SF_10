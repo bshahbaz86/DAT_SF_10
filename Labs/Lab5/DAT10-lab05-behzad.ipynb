{
 "metadata": {
  "name": "",
  "signature": "sha256:106c6128f81be18fa9a44a282996c2b2ace3153887da1f178a3e1f451e626f2b"
 },
 "nbformat": 3,
 "nbformat_minor": 0,
 "worksheets": [
  {
   "cells": [
    {
     "cell_type": "markdown",
     "metadata": {},
     "source": [
      "# GA Data Science 10 (DAT10) - Lab5\n",
      "\n",
      "### Regressions\n",
      "\n",
      "Francesco Mosconi, Chief Data Officer, [Spire Inc.](spire.io)\n",
      "\n",
      "Craig Sakuma, Data Scientist"
     ]
    },
    {
     "cell_type": "code",
     "collapsed": false,
     "input": [
      "#usual imports\n",
      "import numpy as np\n",
      "import matplotlib.pyplot as plt\n",
      "import pandas as pd\n",
      "\n",
      "%matplotlib inline\n",
      "\n",
      "# Statsmodel APIs\n",
      "import statsmodels.api as sm"
     ],
     "language": "python",
     "metadata": {},
     "outputs": [],
     "prompt_number": 1
    },
    {
     "cell_type": "markdown",
     "metadata": {},
     "source": [
      "## Linear Regression"
     ]
    },
    {
     "cell_type": "markdown",
     "metadata": {},
     "source": [
      "Load a subset of the housing data"
     ]
    },
    {
     "cell_type": "code",
     "collapsed": false,
     "input": [
      "data = pd.read_csv('houses.csv')"
     ],
     "language": "python",
     "metadata": {},
     "outputs": [],
     "prompt_number": 2
    },
    {
     "cell_type": "code",
     "collapsed": false,
     "input": [
      "data.head()"
     ],
     "language": "python",
     "metadata": {},
     "outputs": [
      {
       "html": [
        "<div style=\"max-height:1000px;max-width:1500px;overflow:auto;\">\n",
        "<table border=\"1\" class=\"dataframe\">\n",
        "  <thead>\n",
        "    <tr style=\"text-align: right;\">\n",
        "      <th></th>\n",
        "      <th>sqft</th>\n",
        "      <th>bedrooms</th>\n",
        "      <th>age</th>\n",
        "      <th>price</th>\n",
        "    </tr>\n",
        "  </thead>\n",
        "  <tbody>\n",
        "    <tr>\n",
        "      <th>0</th>\n",
        "      <td> 2104</td>\n",
        "      <td> 3</td>\n",
        "      <td> 70</td>\n",
        "      <td> 399900</td>\n",
        "    </tr>\n",
        "    <tr>\n",
        "      <th>1</th>\n",
        "      <td> 1600</td>\n",
        "      <td> 3</td>\n",
        "      <td> 28</td>\n",
        "      <td> 329900</td>\n",
        "    </tr>\n",
        "    <tr>\n",
        "      <th>2</th>\n",
        "      <td> 2400</td>\n",
        "      <td> 3</td>\n",
        "      <td> 44</td>\n",
        "      <td> 369000</td>\n",
        "    </tr>\n",
        "    <tr>\n",
        "      <th>3</th>\n",
        "      <td> 1416</td>\n",
        "      <td> 2</td>\n",
        "      <td> 49</td>\n",
        "      <td> 232000</td>\n",
        "    </tr>\n",
        "    <tr>\n",
        "      <th>4</th>\n",
        "      <td> 3000</td>\n",
        "      <td> 4</td>\n",
        "      <td> 75</td>\n",
        "      <td> 539900</td>\n",
        "    </tr>\n",
        "  </tbody>\n",
        "</table>\n",
        "</div>"
       ],
       "metadata": {},
       "output_type": "pyout",
       "prompt_number": 3,
       "text": [
        "   sqft  bedrooms  age   price\n",
        "0  2104         3   70  399900\n",
        "1  1600         3   28  329900\n",
        "2  2400         3   44  369000\n",
        "3  1416         2   49  232000\n",
        "4  3000         4   75  539900"
       ]
      }
     ],
     "prompt_number": 3
    },
    {
     "cell_type": "code",
     "collapsed": false,
     "input": [
      "data_n = pd.read_csv('houses_norm.csv')"
     ],
     "language": "python",
     "metadata": {},
     "outputs": [],
     "prompt_number": 4
    },
    {
     "cell_type": "markdown",
     "metadata": {},
     "source": [
      "The dataset contains 4 columns. Our objective is to build a model that is able to predict the price of a house, using the information contained in the other columns (sqft, bedrooms and age)"
     ]
    },
    {
     "cell_type": "code",
     "collapsed": false,
     "input": [
      "from pandas.tools.plotting import scatter_matrix\n",
      "scat = scatter_matrix(data, figsize = (5,5))"
     ],
     "language": "python",
     "metadata": {},
     "outputs": [
      {
       "metadata": {},
       "output_type": "display_data",
       "png": "[encoded data removed]",
       "text": [
        "<matplotlib.figure.Figure at 0x109a5fdd0>"
       ]
      }
     ],
     "prompt_number": 5
    },
    {
     "cell_type": "markdown",
     "metadata": {},
     "source": [
      "Run 1. x = sqft, data is raw (so graph units are nice right)"
     ]
    },
    {
     "cell_type": "markdown",
     "metadata": {},
     "source": [
      "Let''s start with a simple model that uses the house surface to estimate the price"
     ]
    },
    {
     "cell_type": "code",
     "collapsed": false,
     "input": [
      "x = data['sqft'].values\n",
      "y = data['price'].values"
     ],
     "language": "python",
     "metadata": {},
     "outputs": [],
     "prompt_number": 12
    },
    {
     "cell_type": "code",
     "collapsed": false,
     "input": [
      "X = sm.add_constant(x, prepend=True)"
     ],
     "language": "python",
     "metadata": {},
     "outputs": [],
     "prompt_number": 13
    },
    {
     "cell_type": "code",
     "collapsed": false,
     "input": [
      "results = sm.OLS(y, X).fit()\n",
      "intercept, slope = results.params\n",
      "\n",
      "r2 = results.rsquared\n",
      "\n",
      "plt.plot(x, y, 'bo')\n",
      "plt.title(\"Price VS Sqft\")\n",
      "xl = np.array([min(x), max(x)])\n",
      "yl = intercept + slope * xl\n",
      "plt.plot(xl, yl, 'r-')\n",
      "plt.show"
     ],
     "language": "python",
     "metadata": {},
     "outputs": [
      {
       "metadata": {},
       "output_type": "pyout",
       "prompt_number": 19,
       "text": [
        "<function matplotlib.pyplot.show>"
       ]
      },
      {
       "metadata": {},
       "output_type": "display_data",
       "png": "[encoded data removed]",
       "text": [
        "<matplotlib.figure.Figure at 0x10c27ca10>"
       ]
      }
     ],
     "prompt_number": 19
    },
    {
     "cell_type": "code",
     "collapsed": false,
     "input": [
      "results.summary()"
     ],
     "language": "python",
     "metadata": {},
     "outputs": [
      {
       "html": [
        "<table class=\"simpletable\">\n",
        "<caption>OLS Regression Results</caption>\n",
        "<tr>\n",
        "  <th>Dep. Variable:</th>            <td>y</td>        <th>  R-squared:         </th> <td>   0.731</td>\n",
        "</tr>\n",
        "<tr>\n",
        "  <th>Model:</th>                   <td>OLS</td>       <th>  Adj. R-squared:    </th> <td>   0.725</td>\n",
        "</tr>\n",
        "<tr>\n",
        "  <th>Method:</th>             <td>Least Squares</td>  <th>  F-statistic:       </th> <td>   122.3</td>\n",
        "</tr>\n",
        "<tr>\n",
        "  <th>Date:</th>             <td>Mon, 20 Oct 2014</td> <th>  Prob (F-statistic):</th> <td>2.03e-14</td>\n",
        "</tr>\n",
        "<tr>\n",
        "  <th>Time:</th>                 <td>20:23:13</td>     <th>  Log-Likelihood:    </th> <td> -586.94</td>\n",
        "</tr>\n",
        "<tr>\n",
        "  <th>No. Observations:</th>      <td>    47</td>      <th>  AIC:               </th> <td>   1178.</td>\n",
        "</tr>\n",
        "<tr>\n",
        "  <th>Df Residuals:</th>          <td>    45</td>      <th>  BIC:               </th> <td>   1182.</td>\n",
        "</tr>\n",
        "<tr>\n",
        "  <th>Df Model:</th>              <td>     1</td>      <th>                     </th>     <td> </td>   \n",
        "</tr>\n",
        "</table>\n",
        "<table class=\"simpletable\">\n",
        "<tr>\n",
        "    <td></td>       <th>coef</th>     <th>std err</th>      <th>t</th>      <th>P>|t|</th> <th>[95.0% Conf. Int.]</th> \n",
        "</tr>\n",
        "<tr>\n",
        "  <th>const</th> <td> 7.127e+04</td> <td> 2.61e+04</td> <td>    2.725</td> <td> 0.009</td> <td> 1.86e+04  1.24e+05</td>\n",
        "</tr>\n",
        "<tr>\n",
        "  <th>x1</th>    <td>  134.5253</td> <td>   12.165</td> <td>   11.058</td> <td> 0.000</td> <td>  110.024   159.027</td>\n",
        "</tr>\n",
        "</table>\n",
        "<table class=\"simpletable\">\n",
        "<tr>\n",
        "  <th>Omnibus:</th>       <td> 3.751</td> <th>  Durbin-Watson:     </th> <td>   1.863</td>\n",
        "</tr>\n",
        "<tr>\n",
        "  <th>Prob(Omnibus):</th> <td> 0.153</td> <th>  Jarque-Bera (JB):  </th> <td>   2.726</td>\n",
        "</tr>\n",
        "<tr>\n",
        "  <th>Skew:</th>          <td> 0.557</td> <th>  Prob(JB):          </th> <td>   0.256</td>\n",
        "</tr>\n",
        "<tr>\n",
        "  <th>Kurtosis:</th>      <td> 3.390</td> <th>  Cond. No.          </th> <td>5.88e+03</td>\n",
        "</tr>\n",
        "</table>"
       ],
       "metadata": {},
       "output_type": "pyout",
       "prompt_number": 20,
       "text": [
        "<class 'statsmodels.iolib.summary.Summary'>\n",
        "\"\"\"\n",
        "                            OLS Regression Results                            \n",
        "==============================================================================\n",
        "Dep. Variable:                      y   R-squared:                       0.731\n",
        "Model:                            OLS   Adj. R-squared:                  0.725\n",
        "Method:                 Least Squares   F-statistic:                     122.3\n",
        "Date:                Mon, 20 Oct 2014   Prob (F-statistic):           2.03e-14\n",
        "Time:                        20:23:13   Log-Likelihood:                -586.94\n",
        "No. Observations:                  47   AIC:                             1178.\n",
        "Df Residuals:                      45   BIC:                             1182.\n",
        "Df Model:                           1                                         \n",
        "==============================================================================\n",
        "                 coef    std err          t      P>|t|      [95.0% Conf. Int.]\n",
        "------------------------------------------------------------------------------\n",
        "const       7.127e+04   2.61e+04      2.725      0.009      1.86e+04  1.24e+05\n",
        "x1           134.5253     12.165     11.058      0.000       110.024   159.027\n",
        "==============================================================================\n",
        "Omnibus:                        3.751   Durbin-Watson:                   1.863\n",
        "Prob(Omnibus):                  0.153   Jarque-Bera (JB):                2.726\n",
        "Skew:                           0.557   Prob(JB):                        0.256\n",
        "Kurtosis:                       3.390   Cond. No.                     5.88e+03\n",
        "==============================================================================\n",
        "\n",
        "Warnings:\n",
        "[1] The condition number is large, 5.88e+03. This might indicate that there are\n",
        "strong multicollinearity or other numerical problems.\n",
        "\"\"\""
       ]
      }
     ],
     "prompt_number": 20
    },
    {
     "cell_type": "markdown",
     "metadata": {},
     "source": [
      "Run 2:  x = sqft, data is normalized (so summary stats are nice)"
     ]
    },
    {
     "cell_type": "code",
     "collapsed": false,
     "input": [
      "data_n.head()"
     ],
     "language": "python",
     "metadata": {},
     "outputs": [
      {
       "html": [
        "<div style=\"max-height:1000px;max-width:1500px;overflow:auto;\">\n",
        "<table border=\"1\" class=\"dataframe\">\n",
        "  <thead>\n",
        "    <tr style=\"text-align: right;\">\n",
        "      <th></th>\n",
        "      <th>sqft</th>\n",
        "      <th>bedrooms</th>\n",
        "      <th>age</th>\n",
        "      <th>price</th>\n",
        "    </tr>\n",
        "  </thead>\n",
        "  <tbody>\n",
        "    <tr>\n",
        "      <th>0</th>\n",
        "      <td> 2.104</td>\n",
        "      <td> 3</td>\n",
        "      <td> 7.0</td>\n",
        "      <td> 3.999</td>\n",
        "    </tr>\n",
        "    <tr>\n",
        "      <th>1</th>\n",
        "      <td> 1.600</td>\n",
        "      <td> 3</td>\n",
        "      <td> 2.8</td>\n",
        "      <td> 3.299</td>\n",
        "    </tr>\n",
        "    <tr>\n",
        "      <th>2</th>\n",
        "      <td> 2.400</td>\n",
        "      <td> 3</td>\n",
        "      <td> 4.4</td>\n",
        "      <td> 3.690</td>\n",
        "    </tr>\n",
        "    <tr>\n",
        "      <th>3</th>\n",
        "      <td> 1.416</td>\n",
        "      <td> 2</td>\n",
        "      <td> 4.9</td>\n",
        "      <td> 2.320</td>\n",
        "    </tr>\n",
        "    <tr>\n",
        "      <th>4</th>\n",
        "      <td> 3.000</td>\n",
        "      <td> 4</td>\n",
        "      <td> 7.5</td>\n",
        "      <td> 5.399</td>\n",
        "    </tr>\n",
        "  </tbody>\n",
        "</table>\n",
        "</div>"
       ],
       "metadata": {},
       "output_type": "pyout",
       "prompt_number": 21,
       "text": [
        "    sqft  bedrooms  age  price\n",
        "0  2.104         3  7.0  3.999\n",
        "1  1.600         3  2.8  3.299\n",
        "2  2.400         3  4.4  3.690\n",
        "3  1.416         2  4.9  2.320\n",
        "4  3.000         4  7.5  5.399"
       ]
      }
     ],
     "prompt_number": 21
    },
    {
     "cell_type": "markdown",
     "metadata": {},
     "source": [
      "### EXERCISE #1\n",
      "#### Create the linear model for data_n to predict price based on sqft. \n",
      "#### What are the slope, intercept and r-squared?"
     ]
    },
    {
     "cell_type": "code",
     "collapsed": false,
     "input": [
      "data_n = pd.read_csv('houses_norm.csv')\n",
      "results1 = sm.OLS(y, X).fit()\n",
      "intercept, slope = results1.params\n",
      "\n",
      "r2 = results1.rsquared\n",
      "\n",
      "print \"slope: {0}  r2: {1} \".format(slope,r2) "
     ],
     "language": "python",
     "metadata": {},
     "outputs": [
      {
       "output_type": "stream",
       "stream": "stdout",
       "text": [
        "slope: 1.3452528772  r2: 0.731003783976 \n"
       ]
      }
     ],
     "prompt_number": 35
    },
    {
     "cell_type": "markdown",
     "metadata": {},
     "source": [
      "#### Plot the data along with the line for the regression model"
     ]
    },
    {
     "cell_type": "code",
     "collapsed": false,
     "input": [
      "plt.plot(x1, y1, 'bo')\n",
      "plt.title(\"Price VS Sqft\")\n",
      "x2 = np.array([min(x1), max(x1)])\n",
      "y2 = intercept + slope * x2\n",
      "plt.plot(x2, y2, 'r-')\n",
      "plt.show"
     ],
     "language": "python",
     "metadata": {},
     "outputs": [
      {
       "metadata": {},
       "output_type": "pyout",
       "prompt_number": 29,
       "text": [
        "<function matplotlib.pyplot.show>"
       ]
      },
      {
       "metadata": {},
       "output_type": "display_data",
       "png": "[encoded data removed]",
       "text": [
        "<matplotlib.figure.Figure at 0x10c274550>"
       ]
      }
     ],
     "prompt_number": 29
    },
    {
     "cell_type": "markdown",
     "metadata": {},
     "source": [
      "#### Bonus challenge: Change the color and shape of the data points."
     ]
    },
    {
     "cell_type": "code",
     "collapsed": false,
     "input": [
      "plt.plot(x1, y1, 'g>')\n",
      "plt.title(\"Price VS Sqft\")\n",
      "x2 = np.array([min(x1), max(x1)])\n",
      "y2 = intercept + slope * x2\n",
      "plt.plot(x2, y2, 'r-')\n",
      "plt.show"
     ],
     "language": "python",
     "metadata": {},
     "outputs": [
      {
       "metadata": {},
       "output_type": "pyout",
       "prompt_number": 30,
       "text": [
        "<function matplotlib.pyplot.show>"
       ]
      },
      {
       "metadata": {},
       "output_type": "display_data",
       "png": "[encoded data removed]",
       "text": [
        "<matplotlib.figure.Figure at 0x10c874750>"
       ]
      }
     ],
     "prompt_number": 30
    },
    {
     "cell_type": "markdown",
     "metadata": {},
     "source": [
      "Confidence Intervals"
     ]
    },
    {
     "cell_type": "code",
     "collapsed": false,
     "input": [
      "from statsmodels.sandbox.regression.predstd import wls_prediction_std\n",
      "\n",
      "prstd, iv_l, iv_u = wls_prediction_std(results)"
     ],
     "language": "python",
     "metadata": {},
     "outputs": [],
     "prompt_number": 36
    },
    {
     "cell_type": "code",
     "collapsed": false,
     "input": [
      "fig, ax = 0,0\n",
      "fig, ax = plt.subplots(figsize=(8,6))\n",
      "\n",
      "ax.plot(x, y, 'o', label=\"data\")\n",
      "ax.plot(x, results.fittedvalues, 'r-', label=\"OLS\")\n",
      "ax.plot(x, iv_u, 'r-')\n",
      "ax.plot(x, iv_l, 'r-')\n",
      "ax.legend(loc='best');"
     ],
     "language": "python",
     "metadata": {},
     "outputs": [
      {
       "metadata": {},
       "output_type": "display_data",
       "png": "[encoded data removed]",
       "text": [
        "<matplotlib.figure.Figure at 0x10a01cc50>"
       ]
      }
     ],
     "prompt_number": 13
    },
    {
     "cell_type": "markdown",
     "metadata": {},
     "source": [
      "## Function of Bedrooms?"
     ]
    },
    {
     "cell_type": "markdown",
     "metadata": {},
     "source": [
      "Run 3:  x = bdrms, data is raw (so graph units are nice)"
     ]
    },
    {
     "cell_type": "code",
     "collapsed": false,
     "input": [
      "x = data['bedrooms'].values\n",
      "y = data['price'].values\n",
      "\n",
      "X = sm.add_constant(x, prepend=True)\n",
      "results = sm.OLS(y, X).fit()\n",
      "intercept, slope = results.params\n",
      "r2 = results.rsquared\n",
      "plt.plot(x, y, 'bo')\n",
      "xl = np.array([min(x), max(x)])\n",
      "yl = intercept + slope * xl\n",
      "plt.plot(xl, yl, 'r-')\n",
      "plt.title(r2)\n",
      "plt.show()"
     ],
     "language": "python",
     "metadata": {},
     "outputs": [
      {
       "metadata": {},
       "output_type": "display_data",
       "png": "[encoded data removed]",
       "text": [
        "<matplotlib.figure.Figure at 0x10c799150>"
       ]
      }
     ],
     "prompt_number": 37
    },
    {
     "cell_type": "code",
     "collapsed": false,
     "input": [
      "results.summary()"
     ],
     "language": "python",
     "metadata": {},
     "outputs": [
      {
       "html": [
        "<table class=\"simpletable\">\n",
        "<caption>OLS Regression Results</caption>\n",
        "<tr>\n",
        "  <th>Dep. Variable:</th>            <td>y</td>        <th>  R-squared:         </th> <td>   0.196</td>\n",
        "</tr>\n",
        "<tr>\n",
        "  <th>Model:</th>                   <td>OLS</td>       <th>  Adj. R-squared:    </th> <td>   0.178</td>\n",
        "</tr>\n",
        "<tr>\n",
        "  <th>Method:</th>             <td>Least Squares</td>  <th>  F-statistic:       </th> <td>   10.94</td>\n",
        "</tr>\n",
        "<tr>\n",
        "  <th>Date:</th>             <td>Mon, 20 Oct 2014</td> <th>  Prob (F-statistic):</th>  <td>0.00185</td>\n",
        "</tr>\n",
        "<tr>\n",
        "  <th>Time:</th>                 <td>20:42:37</td>     <th>  Log-Likelihood:    </th> <td> -612.68</td>\n",
        "</tr>\n",
        "<tr>\n",
        "  <th>No. Observations:</th>      <td>    47</td>      <th>  AIC:               </th> <td>   1229.</td>\n",
        "</tr>\n",
        "<tr>\n",
        "  <th>Df Residuals:</th>          <td>    45</td>      <th>  BIC:               </th> <td>   1233.</td>\n",
        "</tr>\n",
        "<tr>\n",
        "  <th>Df Model:</th>              <td>     1</td>      <th>                     </th>     <td> </td>   \n",
        "</tr>\n",
        "</table>\n",
        "<table class=\"simpletable\">\n",
        "<tr>\n",
        "    <td></td>       <th>coef</th>     <th>std err</th>      <th>t</th>      <th>P>|t|</th> <th>[95.0% Conf. Int.]</th> \n",
        "</tr>\n",
        "<tr>\n",
        "  <th>const</th> <td>   1.1e+05</td> <td> 7.16e+04</td> <td>    1.537</td> <td> 0.131</td> <td>-3.41e+04  2.54e+05</td>\n",
        "</tr>\n",
        "<tr>\n",
        "  <th>x1</th>    <td> 7.267e+04</td> <td>  2.2e+04</td> <td>    3.308</td> <td> 0.002</td> <td> 2.84e+04  1.17e+05</td>\n",
        "</tr>\n",
        "</table>\n",
        "<table class=\"simpletable\">\n",
        "<tr>\n",
        "  <th>Omnibus:</th>       <td> 4.709</td> <th>  Durbin-Watson:     </th> <td>   2.232</td>\n",
        "</tr>\n",
        "<tr>\n",
        "  <th>Prob(Omnibus):</th> <td> 0.095</td> <th>  Jarque-Bera (JB):  </th> <td>   4.412</td>\n",
        "</tr>\n",
        "<tr>\n",
        "  <th>Skew:</th>          <td> 0.691</td> <th>  Prob(JB):          </th> <td>   0.110</td>\n",
        "</tr>\n",
        "<tr>\n",
        "  <th>Kurtosis:</th>      <td> 2.413</td> <th>  Cond. No.          </th> <td>    15.4</td>\n",
        "</tr>\n",
        "</table>"
       ],
       "metadata": {},
       "output_type": "pyout",
       "prompt_number": 38,
       "text": [
        "<class 'statsmodels.iolib.summary.Summary'>\n",
        "\"\"\"\n",
        "                            OLS Regression Results                            \n",
        "==============================================================================\n",
        "Dep. Variable:                      y   R-squared:                       0.196\n",
        "Model:                            OLS   Adj. R-squared:                  0.178\n",
        "Method:                 Least Squares   F-statistic:                     10.94\n",
        "Date:                Mon, 20 Oct 2014   Prob (F-statistic):            0.00185\n",
        "Time:                        20:42:37   Log-Likelihood:                -612.68\n",
        "No. Observations:                  47   AIC:                             1229.\n",
        "Df Residuals:                      45   BIC:                             1233.\n",
        "Df Model:                           1                                         \n",
        "==============================================================================\n",
        "                 coef    std err          t      P>|t|      [95.0% Conf. Int.]\n",
        "------------------------------------------------------------------------------\n",
        "const         1.1e+05   7.16e+04      1.537      0.131     -3.41e+04  2.54e+05\n",
        "x1          7.267e+04    2.2e+04      3.308      0.002      2.84e+04  1.17e+05\n",
        "==============================================================================\n",
        "Omnibus:                        4.709   Durbin-Watson:                   2.232\n",
        "Prob(Omnibus):                  0.095   Jarque-Bera (JB):                4.412\n",
        "Skew:                           0.691   Prob(JB):                        0.110\n",
        "Kurtosis:                       2.413   Cond. No.                         15.4\n",
        "==============================================================================\n",
        "\"\"\""
       ]
      }
     ],
     "prompt_number": 38
    },
    {
     "cell_type": "code",
     "collapsed": false,
     "input": [
      "x = data_n['bedrooms'].values\n",
      "y = data_n['price'].values\n",
      "\n",
      "X = sm.add_constant(x, prepend=True)\n",
      "results = sm.OLS(y, X).fit()\n",
      "intercept, slope = results.params\n",
      "r2 = results.rsquared\n",
      "plt.plot(x, y, 'bo')\n",
      "xl = np.array([min(x), max(x)])\n",
      "yl = intercept + slope * xl\n",
      "plt.plot(xl, yl, 'r-')\n",
      "plt.show()"
     ],
     "language": "python",
     "metadata": {},
     "outputs": [
      {
       "metadata": {},
       "output_type": "display_data",
       "png": "[encoded data removed]",
       "text": [
        "<matplotlib.figure.Figure at 0x10ad52a90>"
       ]
      }
     ],
     "prompt_number": 16
    },
    {
     "cell_type": "code",
     "collapsed": false,
     "input": [
      "results.summary()"
     ],
     "language": "python",
     "metadata": {},
     "outputs": [
      {
       "html": [
        "<table class=\"simpletable\">\n",
        "<caption>OLS Regression Results</caption>\n",
        "<tr>\n",
        "  <th>Dep. Variable:</th>            <td>y</td>        <th>  R-squared:         </th> <td>   0.196</td>\n",
        "</tr>\n",
        "<tr>\n",
        "  <th>Model:</th>                   <td>OLS</td>       <th>  Adj. R-squared:    </th> <td>   0.178</td>\n",
        "</tr>\n",
        "<tr>\n",
        "  <th>Method:</th>             <td>Least Squares</td>  <th>  F-statistic:       </th> <td>   10.94</td>\n",
        "</tr>\n",
        "<tr>\n",
        "  <th>Date:</th>             <td>Mon, 20 Oct 2014</td> <th>  Prob (F-statistic):</th>  <td>0.00185</td>\n",
        "</tr>\n",
        "<tr>\n",
        "  <th>Time:</th>                 <td>20:48:53</td>     <th>  Log-Likelihood:    </th> <td> -612.68</td>\n",
        "</tr>\n",
        "<tr>\n",
        "  <th>No. Observations:</th>      <td>    47</td>      <th>  AIC:               </th> <td>   1229.</td>\n",
        "</tr>\n",
        "<tr>\n",
        "  <th>Df Residuals:</th>          <td>    45</td>      <th>  BIC:               </th> <td>   1233.</td>\n",
        "</tr>\n",
        "<tr>\n",
        "  <th>Df Model:</th>              <td>     1</td>      <th>                     </th>     <td> </td>   \n",
        "</tr>\n",
        "</table>\n",
        "<table class=\"simpletable\">\n",
        "<tr>\n",
        "    <td></td>       <th>coef</th>     <th>std err</th>      <th>t</th>      <th>P>|t|</th> <th>[95.0% Conf. Int.]</th> \n",
        "</tr>\n",
        "<tr>\n",
        "  <th>const</th> <td>   1.1e+05</td> <td> 7.16e+04</td> <td>    1.537</td> <td> 0.131</td> <td>-3.41e+04  2.54e+05</td>\n",
        "</tr>\n",
        "<tr>\n",
        "  <th>x1</th>    <td> 7.267e+04</td> <td>  2.2e+04</td> <td>    3.308</td> <td> 0.002</td> <td> 2.84e+04  1.17e+05</td>\n",
        "</tr>\n",
        "</table>\n",
        "<table class=\"simpletable\">\n",
        "<tr>\n",
        "  <th>Omnibus:</th>       <td> 4.709</td> <th>  Durbin-Watson:     </th> <td>   2.232</td>\n",
        "</tr>\n",
        "<tr>\n",
        "  <th>Prob(Omnibus):</th> <td> 0.095</td> <th>  Jarque-Bera (JB):  </th> <td>   4.412</td>\n",
        "</tr>\n",
        "<tr>\n",
        "  <th>Skew:</th>          <td> 0.691</td> <th>  Prob(JB):          </th> <td>   0.110</td>\n",
        "</tr>\n",
        "<tr>\n",
        "  <th>Kurtosis:</th>      <td> 2.413</td> <th>  Cond. No.          </th> <td>    15.4</td>\n",
        "</tr>\n",
        "</table>"
       ],
       "metadata": {},
       "output_type": "pyout",
       "prompt_number": 39,
       "text": [
        "<class 'statsmodels.iolib.summary.Summary'>\n",
        "\"\"\"\n",
        "                            OLS Regression Results                            \n",
        "==============================================================================\n",
        "Dep. Variable:                      y   R-squared:                       0.196\n",
        "Model:                            OLS   Adj. R-squared:                  0.178\n",
        "Method:                 Least Squares   F-statistic:                     10.94\n",
        "Date:                Mon, 20 Oct 2014   Prob (F-statistic):            0.00185\n",
        "Time:                        20:48:53   Log-Likelihood:                -612.68\n",
        "No. Observations:                  47   AIC:                             1229.\n",
        "Df Residuals:                      45   BIC:                             1233.\n",
        "Df Model:                           1                                         \n",
        "==============================================================================\n",
        "                 coef    std err          t      P>|t|      [95.0% Conf. Int.]\n",
        "------------------------------------------------------------------------------\n",
        "const         1.1e+05   7.16e+04      1.537      0.131     -3.41e+04  2.54e+05\n",
        "x1          7.267e+04    2.2e+04      3.308      0.002      2.84e+04  1.17e+05\n",
        "==============================================================================\n",
        "Omnibus:                        4.709   Durbin-Watson:                   2.232\n",
        "Prob(Omnibus):                  0.095   Jarque-Bera (JB):                4.412\n",
        "Skew:                           0.691   Prob(JB):                        0.110\n",
        "Kurtosis:                       2.413   Cond. No.                         15.4\n",
        "==============================================================================\n",
        "\"\"\""
       ]
      }
     ],
     "prompt_number": 39
    },
    {
     "cell_type": "markdown",
     "metadata": {},
     "source": [
      "## Function of Age?"
     ]
    },
    {
     "cell_type": "code",
     "collapsed": false,
     "input": [
      "x = data['age'].values\n",
      "y = data['price'].values\n",
      "\n",
      "X = sm.add_constant(x, prepend=True)\n",
      "results = sm.OLS(y, X).fit()\n",
      "intercept, slope = results.params\n",
      "r2 = results.rsquared\n",
      "plt.plot(x, y, 'bo')\n",
      "xl = np.array([min(x), max(x)])\n",
      "yl = intercept + slope * xl\n",
      "plt.plot(xl, yl, 'r-')\n",
      "plt.title(r2)\n",
      "plt.show()"
     ],
     "language": "python",
     "metadata": {},
     "outputs": [
      {
       "metadata": {},
       "output_type": "display_data",
       "png": "[encoded data removed]",
       "text": [
        "<matplotlib.figure.Figure at 0x111a0ea90>"
       ]
      }
     ],
     "prompt_number": 46
    },
    {
     "cell_type": "code",
     "collapsed": false,
     "input": [
      "results.summary()"
     ],
     "language": "python",
     "metadata": {},
     "outputs": [
      {
       "html": [
        "<table class=\"simpletable\">\n",
        "<caption>OLS Regression Results</caption>\n",
        "<tr>\n",
        "  <th>Dep. Variable:</th>            <td>y</td>        <th>  R-squared:         </th> <td>   0.196</td>\n",
        "</tr>\n",
        "<tr>\n",
        "  <th>Model:</th>                   <td>OLS</td>       <th>  Adj. R-squared:    </th> <td>   0.178</td>\n",
        "</tr>\n",
        "<tr>\n",
        "  <th>Method:</th>             <td>Least Squares</td>  <th>  F-statistic:       </th> <td>   10.94</td>\n",
        "</tr>\n",
        "<tr>\n",
        "  <th>Date:</th>             <td>Mon, 20 Oct 2014</td> <th>  Prob (F-statistic):</th>  <td>0.00185</td>\n",
        "</tr>\n",
        "<tr>\n",
        "  <th>Time:</th>                 <td>20:49:35</td>     <th>  Log-Likelihood:    </th> <td> -612.68</td>\n",
        "</tr>\n",
        "<tr>\n",
        "  <th>No. Observations:</th>      <td>    47</td>      <th>  AIC:               </th> <td>   1229.</td>\n",
        "</tr>\n",
        "<tr>\n",
        "  <th>Df Residuals:</th>          <td>    45</td>      <th>  BIC:               </th> <td>   1233.</td>\n",
        "</tr>\n",
        "<tr>\n",
        "  <th>Df Model:</th>              <td>     1</td>      <th>                     </th>     <td> </td>   \n",
        "</tr>\n",
        "</table>\n",
        "<table class=\"simpletable\">\n",
        "<tr>\n",
        "    <td></td>       <th>coef</th>     <th>std err</th>      <th>t</th>      <th>P>|t|</th> <th>[95.0% Conf. Int.]</th> \n",
        "</tr>\n",
        "<tr>\n",
        "  <th>const</th> <td>   1.1e+05</td> <td> 7.16e+04</td> <td>    1.537</td> <td> 0.131</td> <td>-3.41e+04  2.54e+05</td>\n",
        "</tr>\n",
        "<tr>\n",
        "  <th>x1</th>    <td> 7.267e+04</td> <td>  2.2e+04</td> <td>    3.308</td> <td> 0.002</td> <td> 2.84e+04  1.17e+05</td>\n",
        "</tr>\n",
        "</table>\n",
        "<table class=\"simpletable\">\n",
        "<tr>\n",
        "  <th>Omnibus:</th>       <td> 4.709</td> <th>  Durbin-Watson:     </th> <td>   2.232</td>\n",
        "</tr>\n",
        "<tr>\n",
        "  <th>Prob(Omnibus):</th> <td> 0.095</td> <th>  Jarque-Bera (JB):  </th> <td>   4.412</td>\n",
        "</tr>\n",
        "<tr>\n",
        "  <th>Skew:</th>          <td> 0.691</td> <th>  Prob(JB):          </th> <td>   0.110</td>\n",
        "</tr>\n",
        "<tr>\n",
        "  <th>Kurtosis:</th>      <td> 2.413</td> <th>  Cond. No.          </th> <td>    15.4</td>\n",
        "</tr>\n",
        "</table>"
       ],
       "metadata": {},
       "output_type": "pyout",
       "prompt_number": 40,
       "text": [
        "<class 'statsmodels.iolib.summary.Summary'>\n",
        "\"\"\"\n",
        "                            OLS Regression Results                            \n",
        "==============================================================================\n",
        "Dep. Variable:                      y   R-squared:                       0.196\n",
        "Model:                            OLS   Adj. R-squared:                  0.178\n",
        "Method:                 Least Squares   F-statistic:                     10.94\n",
        "Date:                Mon, 20 Oct 2014   Prob (F-statistic):            0.00185\n",
        "Time:                        20:49:35   Log-Likelihood:                -612.68\n",
        "No. Observations:                  47   AIC:                             1229.\n",
        "Df Residuals:                      45   BIC:                             1233.\n",
        "Df Model:                           1                                         \n",
        "==============================================================================\n",
        "                 coef    std err          t      P>|t|      [95.0% Conf. Int.]\n",
        "------------------------------------------------------------------------------\n",
        "const         1.1e+05   7.16e+04      1.537      0.131     -3.41e+04  2.54e+05\n",
        "x1          7.267e+04    2.2e+04      3.308      0.002      2.84e+04  1.17e+05\n",
        "==============================================================================\n",
        "Omnibus:                        4.709   Durbin-Watson:                   2.232\n",
        "Prob(Omnibus):                  0.095   Jarque-Bera (JB):                4.412\n",
        "Skew:                           0.691   Prob(JB):                        0.110\n",
        "Kurtosis:                       2.413   Cond. No.                         15.4\n",
        "==============================================================================\n",
        "\"\"\""
       ]
      }
     ],
     "prompt_number": 40
    },
    {
     "cell_type": "code",
     "collapsed": false,
     "input": [
      "x = data_n['age'].values\n",
      "y = data_n['price'].values \n",
      "\n",
      "X = sm.add_constant(x, prepend=True)\n",
      "results = sm.OLS(y, X).fit()\n",
      "intercept, slope = results.params\n",
      "r2 = results.rsquared\n",
      "plt.plot(x, y, 'bo')\n",
      "xl = np.array([min(x), max(x)])\n",
      "yl = intercept + slope * xl\n",
      "plt.plot(xl, yl, 'r-')\n",
      "plt.show()"
     ],
     "language": "python",
     "metadata": {},
     "outputs": [
      {
       "metadata": {},
       "output_type": "display_data",
       "png": "[encoded data removed]",
       "text": [
        "<matplotlib.figure.Figure at 0x111a0e450>"
       ]
      }
     ],
     "prompt_number": 48
    },
    {
     "cell_type": "code",
     "collapsed": false,
     "input": [
      "print results.summary()"
     ],
     "language": "python",
     "metadata": {},
     "outputs": [
      {
       "output_type": "stream",
       "stream": "stdout",
       "text": [
        "                            OLS Regression Results                            \n",
        "==============================================================================\n",
        "Dep. Variable:                      y   R-squared:                       0.003\n",
        "Model:                            OLS   Adj. R-squared:                 -0.019\n",
        "Method:                 Least Squares   F-statistic:                    0.1210\n",
        "Date:                Mon, 20 Oct 2014   Prob (F-statistic):              0.730\n",
        "Time:                        19:12:30   Log-Likelihood:                -76.624\n",
        "No. Observations:                  47   AIC:                             157.2\n",
        "Df Residuals:                      45   BIC:                             160.9\n",
        "Df Model:                           1                                         \n",
        "==============================================================================\n",
        "                 coef    std err          t      P>|t|      [95.0% Conf. Int.]\n",
        "------------------------------------------------------------------------------\n",
        "const          3.2831      0.394      8.341      0.000         2.490     4.076\n",
        "x1             0.0283      0.081      0.348      0.730        -0.136     0.192\n",
        "==============================================================================\n",
        "Omnibus:                        8.665   Durbin-Watson:                   2.063\n",
        "Prob(Omnibus):                  0.013   Jarque-Bera (JB):                8.374\n",
        "Skew:                           1.025   Prob(JB):                       0.0152\n",
        "Kurtosis:                       3.270   Cond. No.                         10.7\n",
        "==============================================================================\n"
       ]
      }
     ],
     "prompt_number": 49
    },
    {
     "cell_type": "markdown",
     "metadata": {},
     "source": [
      "## Function of multiple variables"
     ]
    },
    {
     "cell_type": "code",
     "collapsed": false,
     "input": [
      "x = data_n[['sqft', 'bedrooms','age']].values\n",
      "y = data_n['price'].values\n",
      "\n",
      "X = sm.add_constant(x, prepend=True)\n",
      "results = sm.OLS(y, X).fit()"
     ],
     "language": "python",
     "metadata": {},
     "outputs": [],
     "prompt_number": 50
    },
    {
     "cell_type": "code",
     "collapsed": false,
     "input": [
      "results.summary()"
     ],
     "language": "python",
     "metadata": {},
     "outputs": [
      {
       "html": [
        "<table class=\"simpletable\">\n",
        "<caption>OLS Regression Results</caption>\n",
        "<tr>\n",
        "  <th>Dep. Variable:</th>            <td>y</td>        <th>  R-squared:         </th> <td>   0.196</td>\n",
        "</tr>\n",
        "<tr>\n",
        "  <th>Model:</th>                   <td>OLS</td>       <th>  Adj. R-squared:    </th> <td>   0.178</td>\n",
        "</tr>\n",
        "<tr>\n",
        "  <th>Method:</th>             <td>Least Squares</td>  <th>  F-statistic:       </th> <td>   10.94</td>\n",
        "</tr>\n",
        "<tr>\n",
        "  <th>Date:</th>             <td>Mon, 20 Oct 2014</td> <th>  Prob (F-statistic):</th>  <td>0.00185</td>\n",
        "</tr>\n",
        "<tr>\n",
        "  <th>Time:</th>                 <td>20:54:17</td>     <th>  Log-Likelihood:    </th> <td> -612.68</td>\n",
        "</tr>\n",
        "<tr>\n",
        "  <th>No. Observations:</th>      <td>    47</td>      <th>  AIC:               </th> <td>   1229.</td>\n",
        "</tr>\n",
        "<tr>\n",
        "  <th>Df Residuals:</th>          <td>    45</td>      <th>  BIC:               </th> <td>   1233.</td>\n",
        "</tr>\n",
        "<tr>\n",
        "  <th>Df Model:</th>              <td>     1</td>      <th>                     </th>     <td> </td>   \n",
        "</tr>\n",
        "</table>\n",
        "<table class=\"simpletable\">\n",
        "<tr>\n",
        "    <td></td>       <th>coef</th>     <th>std err</th>      <th>t</th>      <th>P>|t|</th> <th>[95.0% Conf. Int.]</th> \n",
        "</tr>\n",
        "<tr>\n",
        "  <th>const</th> <td>   1.1e+05</td> <td> 7.16e+04</td> <td>    1.537</td> <td> 0.131</td> <td>-3.41e+04  2.54e+05</td>\n",
        "</tr>\n",
        "<tr>\n",
        "  <th>x1</th>    <td> 7.267e+04</td> <td>  2.2e+04</td> <td>    3.308</td> <td> 0.002</td> <td> 2.84e+04  1.17e+05</td>\n",
        "</tr>\n",
        "</table>\n",
        "<table class=\"simpletable\">\n",
        "<tr>\n",
        "  <th>Omnibus:</th>       <td> 4.709</td> <th>  Durbin-Watson:     </th> <td>   2.232</td>\n",
        "</tr>\n",
        "<tr>\n",
        "  <th>Prob(Omnibus):</th> <td> 0.095</td> <th>  Jarque-Bera (JB):  </th> <td>   4.412</td>\n",
        "</tr>\n",
        "<tr>\n",
        "  <th>Skew:</th>          <td> 0.691</td> <th>  Prob(JB):          </th> <td>   0.110</td>\n",
        "</tr>\n",
        "<tr>\n",
        "  <th>Kurtosis:</th>      <td> 2.413</td> <th>  Cond. No.          </th> <td>    15.4</td>\n",
        "</tr>\n",
        "</table>"
       ],
       "metadata": {},
       "output_type": "pyout",
       "prompt_number": 42,
       "text": [
        "<class 'statsmodels.iolib.summary.Summary'>\n",
        "\"\"\"\n",
        "                            OLS Regression Results                            \n",
        "==============================================================================\n",
        "Dep. Variable:                      y   R-squared:                       0.196\n",
        "Model:                            OLS   Adj. R-squared:                  0.178\n",
        "Method:                 Least Squares   F-statistic:                     10.94\n",
        "Date:                Mon, 20 Oct 2014   Prob (F-statistic):            0.00185\n",
        "Time:                        20:54:17   Log-Likelihood:                -612.68\n",
        "No. Observations:                  47   AIC:                             1229.\n",
        "Df Residuals:                      45   BIC:                             1233.\n",
        "Df Model:                           1                                         \n",
        "==============================================================================\n",
        "                 coef    std err          t      P>|t|      [95.0% Conf. Int.]\n",
        "------------------------------------------------------------------------------\n",
        "const         1.1e+05   7.16e+04      1.537      0.131     -3.41e+04  2.54e+05\n",
        "x1          7.267e+04    2.2e+04      3.308      0.002      2.84e+04  1.17e+05\n",
        "==============================================================================\n",
        "Omnibus:                        4.709   Durbin-Watson:                   2.232\n",
        "Prob(Omnibus):                  0.095   Jarque-Bera (JB):                4.412\n",
        "Skew:                           0.691   Prob(JB):                        0.110\n",
        "Kurtosis:                       2.413   Cond. No.                         15.4\n",
        "==============================================================================\n",
        "\"\"\""
       ]
      }
     ],
     "prompt_number": 42
    },
    {
     "cell_type": "markdown",
     "metadata": {},
     "source": [
      "## 3D Plot"
     ]
    },
    {
     "cell_type": "code",
     "collapsed": false,
     "input": [
      "# 3d plot\n",
      "from mpl_toolkits.mplot3d import Axes3D\n",
      "\n",
      "x = data[['sqft', 'bedrooms','age']].values\n",
      "y = data['price'].values\n",
      "\n",
      "fignum = 1\n",
      "fig = plt.figure(fignum, figsize=(8, 6))\n",
      "plt.clf()\n",
      "ax = Axes3D(fig, rect=[0, 0, .95, 1], elev=38, azim=124)\n",
      "\n",
      "plt.cla()\n",
      "X = sm.add_constant(x, prepend=True)\n",
      "results = sm.OLS(y, X).fit()\n",
      "\n",
      "# est.fit(X)\n",
      "# ax.scatter(X[:, 0], X[:, 1], X[:, 3], c=labels.astype(np.float))\n",
      "ax.scatter(X[:, 1], X[:, 0], X[:, 3])\n",
      "\n",
      "ax.w_xaxis.set_ticklabels([])\n",
      "ax.w_yaxis.set_ticklabels([])\n",
      "ax.w_zaxis.set_ticklabels([])\n",
      "ax.set_ylabel('Sqft')\n",
      "ax.set_xlabel('Bedrooms')\n",
      "ax.set_zlabel('Price')\n",
      "plt.show()"
     ],
     "language": "python",
     "metadata": {},
     "outputs": [
      {
       "metadata": {},
       "output_type": "display_data",
       "png": "[encoded data removed]",
       "text": [
        "<matplotlib.figure.Figure at 0x10c77cfd0>"
       ]
      }
     ],
     "prompt_number": 47
    },
    {
     "cell_type": "markdown",
     "metadata": {},
     "source": [
      "## Just sqft & bedrooms"
     ]
    },
    {
     "cell_type": "code",
     "collapsed": false,
     "input": [
      "x = data_n[['sqft', 'bedrooms']].values\n",
      "y = data_n['price'].values\n",
      "X = sm.add_constant(x, prepend=True)\n",
      "results = sm.OLS(y, X).fit()\n",
      "results.summary()"
     ],
     "language": "python",
     "metadata": {},
     "outputs": [
      {
       "html": [
        "<table class=\"simpletable\">\n",
        "<caption>OLS Regression Results</caption>\n",
        "<tr>\n",
        "  <th>Dep. Variable:</th>            <td>y</td>        <th>  R-squared:         </th> <td>   0.733</td>\n",
        "</tr>\n",
        "<tr>\n",
        "  <th>Model:</th>                   <td>OLS</td>       <th>  Adj. R-squared:    </th> <td>   0.721</td>\n",
        "</tr>\n",
        "<tr>\n",
        "  <th>Method:</th>             <td>Least Squares</td>  <th>  F-statistic:       </th> <td>   60.38</td>\n",
        "</tr>\n",
        "<tr>\n",
        "  <th>Date:</th>             <td>Mon, 20 Oct 2014</td> <th>  Prob (F-statistic):</th> <td>2.43e-13</td>\n",
        "</tr>\n",
        "<tr>\n",
        "  <th>Time:</th>                 <td>19:24:35</td>     <th>  Log-Likelihood:    </th> <td> -45.660</td>\n",
        "</tr>\n",
        "<tr>\n",
        "  <th>No. Observations:</th>      <td>    47</td>      <th>  AIC:               </th> <td>   97.32</td>\n",
        "</tr>\n",
        "<tr>\n",
        "  <th>Df Residuals:</th>          <td>    44</td>      <th>  BIC:               </th> <td>   102.9</td>\n",
        "</tr>\n",
        "<tr>\n",
        "  <th>Df Model:</th>              <td>     2</td>      <th>                     </th>     <td> </td>   \n",
        "</tr>\n",
        "</table>\n",
        "<table class=\"simpletable\">\n",
        "<tr>\n",
        "    <td></td>       <th>coef</th>     <th>std err</th>      <th>t</th>      <th>P>|t|</th> <th>[95.0% Conf. Int.]</th> \n",
        "</tr>\n",
        "<tr>\n",
        "  <th>const</th> <td>    0.8960</td> <td>    0.418</td> <td>    2.145</td> <td> 0.037</td> <td>    0.054     1.738</td>\n",
        "</tr>\n",
        "<tr>\n",
        "  <th>x1</th>    <td>    1.3921</td> <td>    0.148</td> <td>    9.409</td> <td> 0.000</td> <td>    1.094     1.690</td>\n",
        "</tr>\n",
        "<tr>\n",
        "  <th>x2</th>    <td>   -0.0874</td> <td>    0.155</td> <td>   -0.566</td> <td> 0.575</td> <td>   -0.399     0.224</td>\n",
        "</tr>\n",
        "</table>\n",
        "<table class=\"simpletable\">\n",
        "<tr>\n",
        "  <th>Omnibus:</th>       <td> 4.083</td> <th>  Durbin-Watson:     </th> <td>   1.826</td>\n",
        "</tr>\n",
        "<tr>\n",
        "  <th>Prob(Omnibus):</th> <td> 0.130</td> <th>  Jarque-Bera (JB):  </th> <td>   2.977</td>\n",
        "</tr>\n",
        "<tr>\n",
        "  <th>Skew:</th>          <td> 0.567</td> <th>  Prob(JB):          </th> <td>   0.226</td>\n",
        "</tr>\n",
        "<tr>\n",
        "  <th>Kurtosis:</th>      <td> 3.484</td> <th>  Cond. No.          </th> <td>    18.0</td>\n",
        "</tr>\n",
        "</table>"
       ],
       "metadata": {},
       "output_type": "pyout",
       "prompt_number": 18,
       "text": [
        "<class 'statsmodels.iolib.summary.Summary'>\n",
        "\"\"\"\n",
        "                            OLS Regression Results                            \n",
        "==============================================================================\n",
        "Dep. Variable:                      y   R-squared:                       0.733\n",
        "Model:                            OLS   Adj. R-squared:                  0.721\n",
        "Method:                 Least Squares   F-statistic:                     60.38\n",
        "Date:                Mon, 20 Oct 2014   Prob (F-statistic):           2.43e-13\n",
        "Time:                        19:24:35   Log-Likelihood:                -45.660\n",
        "No. Observations:                  47   AIC:                             97.32\n",
        "Df Residuals:                      44   BIC:                             102.9\n",
        "Df Model:                           2                                         \n",
        "==============================================================================\n",
        "                 coef    std err          t      P>|t|      [95.0% Conf. Int.]\n",
        "------------------------------------------------------------------------------\n",
        "const          0.8960      0.418      2.145      0.037         0.054     1.738\n",
        "x1             1.3921      0.148      9.409      0.000         1.094     1.690\n",
        "x2            -0.0874      0.155     -0.566      0.575        -0.399     0.224\n",
        "==============================================================================\n",
        "Omnibus:                        4.083   Durbin-Watson:                   1.826\n",
        "Prob(Omnibus):                  0.130   Jarque-Bera (JB):                2.977\n",
        "Skew:                           0.567   Prob(JB):                        0.226\n",
        "Kurtosis:                       3.484   Cond. No.                         18.0\n",
        "==============================================================================\n",
        "\"\"\""
       ]
      }
     ],
     "prompt_number": 18
    },
    {
     "cell_type": "markdown",
     "metadata": {},
     "source": [
      "## The formula API"
     ]
    },
    {
     "cell_type": "code",
     "collapsed": false,
     "input": [
      "import statsmodels.formula.api as smf"
     ],
     "language": "python",
     "metadata": {},
     "outputs": [],
     "prompt_number": 19
    },
    {
     "cell_type": "code",
     "collapsed": false,
     "input": [
      "results = smf.ols('price ~ sqft + bedrooms', data=data).fit()"
     ],
     "language": "python",
     "metadata": {},
     "outputs": [],
     "prompt_number": 22
    },
    {
     "cell_type": "code",
     "collapsed": false,
     "input": [
      "results.summary()"
     ],
     "language": "python",
     "metadata": {},
     "outputs": [
      {
       "html": [
        "<table class=\"simpletable\">\n",
        "<caption>OLS Regression Results</caption>\n",
        "<tr>\n",
        "  <th>Dep. Variable:</th>          <td>price</td>      <th>  R-squared:         </th> <td>   0.733</td>\n",
        "</tr>\n",
        "<tr>\n",
        "  <th>Model:</th>                   <td>OLS</td>       <th>  Adj. R-squared:    </th> <td>   0.721</td>\n",
        "</tr>\n",
        "<tr>\n",
        "  <th>Method:</th>             <td>Least Squares</td>  <th>  F-statistic:       </th> <td>   60.38</td>\n",
        "</tr>\n",
        "<tr>\n",
        "  <th>Date:</th>             <td>Mon, 20 Oct 2014</td> <th>  Prob (F-statistic):</th> <td>2.43e-13</td>\n",
        "</tr>\n",
        "<tr>\n",
        "  <th>Time:</th>                 <td>19:30:42</td>     <th>  Log-Likelihood:    </th> <td> -586.77</td>\n",
        "</tr>\n",
        "<tr>\n",
        "  <th>No. Observations:</th>      <td>    47</td>      <th>  AIC:               </th> <td>   1180.</td>\n",
        "</tr>\n",
        "<tr>\n",
        "  <th>Df Residuals:</th>          <td>    44</td>      <th>  BIC:               </th> <td>   1185.</td>\n",
        "</tr>\n",
        "<tr>\n",
        "  <th>Df Model:</th>              <td>     2</td>      <th>                     </th>     <td> </td>   \n",
        "</tr>\n",
        "</table>\n",
        "<table class=\"simpletable\">\n",
        "<tr>\n",
        "      <td></td>         <th>coef</th>     <th>std err</th>      <th>t</th>      <th>P>|t|</th> <th>[95.0% Conf. Int.]</th> \n",
        "</tr>\n",
        "<tr>\n",
        "  <th>Intercept</th> <td>  8.96e+04</td> <td> 4.18e+04</td> <td>    2.145</td> <td> 0.037</td> <td> 5421.208  1.74e+05</td>\n",
        "</tr>\n",
        "<tr>\n",
        "  <th>sqft</th>      <td>  139.2107</td> <td>   14.795</td> <td>    9.409</td> <td> 0.000</td> <td>  109.393   169.028</td>\n",
        "</tr>\n",
        "<tr>\n",
        "  <th>bedrooms</th>  <td>-8738.0191</td> <td> 1.55e+04</td> <td>   -0.566</td> <td> 0.575</td> <td>-3.99e+04  2.24e+04</td>\n",
        "</tr>\n",
        "</table>\n",
        "<table class=\"simpletable\">\n",
        "<tr>\n",
        "  <th>Omnibus:</th>       <td> 4.083</td> <th>  Durbin-Watson:     </th> <td>   1.826</td>\n",
        "</tr>\n",
        "<tr>\n",
        "  <th>Prob(Omnibus):</th> <td> 0.130</td> <th>  Jarque-Bera (JB):  </th> <td>   2.977</td>\n",
        "</tr>\n",
        "<tr>\n",
        "  <th>Skew:</th>          <td> 0.567</td> <th>  Prob(JB):          </th> <td>   0.226</td>\n",
        "</tr>\n",
        "<tr>\n",
        "  <th>Kurtosis:</th>      <td> 3.484</td> <th>  Cond. No.          </th> <td>9.71e+03</td>\n",
        "</tr>\n",
        "</table>"
       ],
       "metadata": {},
       "output_type": "pyout",
       "prompt_number": 23,
       "text": [
        "<class 'statsmodels.iolib.summary.Summary'>\n",
        "\"\"\"\n",
        "                            OLS Regression Results                            \n",
        "==============================================================================\n",
        "Dep. Variable:                  price   R-squared:                       0.733\n",
        "Model:                            OLS   Adj. R-squared:                  0.721\n",
        "Method:                 Least Squares   F-statistic:                     60.38\n",
        "Date:                Mon, 20 Oct 2014   Prob (F-statistic):           2.43e-13\n",
        "Time:                        19:30:42   Log-Likelihood:                -586.77\n",
        "No. Observations:                  47   AIC:                             1180.\n",
        "Df Residuals:                      44   BIC:                             1185.\n",
        "Df Model:                           2                                         \n",
        "==============================================================================\n",
        "                 coef    std err          t      P>|t|      [95.0% Conf. Int.]\n",
        "------------------------------------------------------------------------------\n",
        "Intercept    8.96e+04   4.18e+04      2.145      0.037      5421.208  1.74e+05\n",
        "sqft         139.2107     14.795      9.409      0.000       109.393   169.028\n",
        "bedrooms   -8738.0191   1.55e+04     -0.566      0.575     -3.99e+04  2.24e+04\n",
        "==============================================================================\n",
        "Omnibus:                        4.083   Durbin-Watson:                   1.826\n",
        "Prob(Omnibus):                  0.130   Jarque-Bera (JB):                2.977\n",
        "Skew:                           0.567   Prob(JB):                        0.226\n",
        "Kurtosis:                       3.484   Cond. No.                     9.71e+03\n",
        "==============================================================================\n",
        "\n",
        "Warnings:\n",
        "[1] The condition number is large, 9.71e+03. This might indicate that there are\n",
        "strong multicollinearity or other numerical problems.\n",
        "\"\"\""
       ]
      }
     ],
     "prompt_number": 23
    },
    {
     "cell_type": "markdown",
     "metadata": {},
     "source": [
      "## Nonlinear Fitting"
     ]
    },
    {
     "cell_type": "markdown",
     "metadata": {},
     "source": [
      "Let's generate points with an arbitrary nonlinear function"
     ]
    },
    {
     "cell_type": "markdown",
     "metadata": {},
     "source": [
      "$y = \\frac{1}{2} x + \\frac{1}{2} \\sin{x} - \\frac{1}{50} (x-5)^2 + 5$"
     ]
    },
    {
     "cell_type": "code",
     "collapsed": false,
     "input": [
      "# start with some fake data\n",
      "nsample = 100\n",
      "sig = 0.5\n",
      "# generate linear space\n",
      "x = np.linspace(0, 10, nsample)\n",
      "# invent function\n",
      "X = np.c_[x, np.sin(x), (x - 5)**2, np.ones(nsample)]\n",
      "# invent coefficients\n",
      "beta = [0.5, 0.5, -0.02, 5.]\n",
      "# generate |\n",
      "y_true = np.dot(X, beta)\n",
      "# add noise\n",
      "y = y_true + sig * np.random.normal(size=nsample)"
     ],
     "language": "python",
     "metadata": {},
     "outputs": [],
     "prompt_number": 64
    },
    {
     "cell_type": "markdown",
     "metadata": {},
     "source": [
      "quick look at the data"
     ]
    },
    {
     "cell_type": "code",
     "collapsed": false,
     "input": [
      "# nice! ipython shortcuts!\n",
      "plt.plot(x, y_true)\n",
      "plt.scatter(x, y, c='g')\n",
      "plt.show()"
     ],
     "language": "python",
     "metadata": {},
     "outputs": [
      {
       "metadata": {},
       "output_type": "display_data",
       "png": "[encoded data removed]",
       "text": [
        "<matplotlib.figure.Figure at 0x10c2b3f50>"
       ]
      }
     ],
     "prompt_number": 65
    },
    {
     "cell_type": "code",
     "collapsed": false,
     "input": [
      "res = sm.OLS(y, X).fit()\n",
      "res.summary()"
     ],
     "language": "python",
     "metadata": {},
     "outputs": [
      {
       "html": [
        "<table class=\"simpletable\">\n",
        "<caption>OLS Regression Results</caption>\n",
        "<tr>\n",
        "  <th>Dep. Variable:</th>            <td>y</td>        <th>  R-squared:         </th> <td>   0.938</td>\n",
        "</tr>\n",
        "<tr>\n",
        "  <th>Model:</th>                   <td>OLS</td>       <th>  Adj. R-squared:    </th> <td>   0.934</td>\n",
        "</tr>\n",
        "<tr>\n",
        "  <th>Method:</th>             <td>Least Squares</td>  <th>  F-statistic:       </th> <td>   231.7</td>\n",
        "</tr>\n",
        "<tr>\n",
        "  <th>Date:</th>             <td>Mon, 20 Oct 2014</td> <th>  Prob (F-statistic):</th> <td>9.18e-28</td>\n",
        "</tr>\n",
        "<tr>\n",
        "  <th>Time:</th>                 <td>19:34:48</td>     <th>  Log-Likelihood:    </th> <td> -34.433</td>\n",
        "</tr>\n",
        "<tr>\n",
        "  <th>No. Observations:</th>      <td>    50</td>      <th>  AIC:               </th> <td>   76.87</td>\n",
        "</tr>\n",
        "<tr>\n",
        "  <th>Df Residuals:</th>          <td>    46</td>      <th>  BIC:               </th> <td>   84.51</td>\n",
        "</tr>\n",
        "<tr>\n",
        "  <th>Df Model:</th>              <td>     3</td>      <th>                     </th>     <td> </td>   \n",
        "</tr>\n",
        "</table>\n",
        "<table class=\"simpletable\">\n",
        "<tr>\n",
        "    <td></td>       <th>coef</th>     <th>std err</th>      <th>t</th>      <th>P>|t|</th> <th>[95.0% Conf. Int.]</th> \n",
        "</tr>\n",
        "<tr>\n",
        "  <th>x1</th>    <td>    0.5108</td> <td>    0.026</td> <td>   19.348</td> <td> 0.000</td> <td>    0.458     0.564</td>\n",
        "</tr>\n",
        "<tr>\n",
        "  <th>x2</th>    <td>    0.4936</td> <td>    0.104</td> <td>    4.756</td> <td> 0.000</td> <td>    0.285     0.703</td>\n",
        "</tr>\n",
        "<tr>\n",
        "  <th>x3</th>    <td>   -0.0207</td> <td>    0.002</td> <td>   -8.918</td> <td> 0.000</td> <td>   -0.025    -0.016</td>\n",
        "</tr>\n",
        "<tr>\n",
        "  <th>const</th> <td>    4.9774</td> <td>    0.171</td> <td>   29.074</td> <td> 0.000</td> <td>    4.633     5.322</td>\n",
        "</tr>\n",
        "</table>\n",
        "<table class=\"simpletable\">\n",
        "<tr>\n",
        "  <th>Omnibus:</th>       <td> 4.179</td> <th>  Durbin-Watson:     </th> <td>   2.222</td>\n",
        "</tr>\n",
        "<tr>\n",
        "  <th>Prob(Omnibus):</th> <td> 0.124</td> <th>  Jarque-Bera (JB):  </th> <td>   2.998</td>\n",
        "</tr>\n",
        "<tr>\n",
        "  <th>Skew:</th>          <td>-0.446</td> <th>  Prob(JB):          </th> <td>   0.223</td>\n",
        "</tr>\n",
        "<tr>\n",
        "  <th>Kurtosis:</th>      <td> 2.197</td> <th>  Cond. No.          </th> <td>    221.</td>\n",
        "</tr>\n",
        "</table>"
       ],
       "metadata": {},
       "output_type": "pyout",
       "prompt_number": 33,
       "text": [
        "<class 'statsmodels.iolib.summary.Summary'>\n",
        "\"\"\"\n",
        "                            OLS Regression Results                            \n",
        "==============================================================================\n",
        "Dep. Variable:                      y   R-squared:                       0.938\n",
        "Model:                            OLS   Adj. R-squared:                  0.934\n",
        "Method:                 Least Squares   F-statistic:                     231.7\n",
        "Date:                Mon, 20 Oct 2014   Prob (F-statistic):           9.18e-28\n",
        "Time:                        19:34:48   Log-Likelihood:                -34.433\n",
        "No. Observations:                  50   AIC:                             76.87\n",
        "Df Residuals:                      46   BIC:                             84.51\n",
        "Df Model:                           3                                         \n",
        "==============================================================================\n",
        "                 coef    std err          t      P>|t|      [95.0% Conf. Int.]\n",
        "------------------------------------------------------------------------------\n",
        "x1             0.5108      0.026     19.348      0.000         0.458     0.564\n",
        "x2             0.4936      0.104      4.756      0.000         0.285     0.703\n",
        "x3            -0.0207      0.002     -8.918      0.000        -0.025    -0.016\n",
        "const          4.9774      0.171     29.074      0.000         4.633     5.322\n",
        "==============================================================================\n",
        "Omnibus:                        4.179   Durbin-Watson:                   2.222\n",
        "Prob(Omnibus):                  0.124   Jarque-Bera (JB):                2.998\n",
        "Skew:                          -0.446   Prob(JB):                        0.223\n",
        "Kurtosis:                       2.197   Cond. No.                         221.\n",
        "==============================================================================\n",
        "\"\"\""
       ]
      }
     ],
     "prompt_number": 33
    },
    {
     "cell_type": "markdown",
     "metadata": {},
     "source": [
      "I can access the results attributes"
     ]
    },
    {
     "cell_type": "code",
     "collapsed": false,
     "input": [
      "print res.params"
     ],
     "language": "python",
     "metadata": {},
     "outputs": [
      {
       "output_type": "stream",
       "stream": "stdout",
       "text": [
        "[ 0.51083892  0.49363929 -0.02067501  4.977444  ]\n"
       ]
      }
     ],
     "prompt_number": 34
    },
    {
     "cell_type": "code",
     "collapsed": false,
     "input": [
      "print \n",
      "res.bse"
     ],
     "language": "python",
     "metadata": {},
     "outputs": [
      {
       "output_type": "stream",
       "stream": "stdout",
       "text": [
        "\n"
       ]
      },
      {
       "metadata": {},
       "output_type": "pyout",
       "prompt_number": 35,
       "text": [
        "array([ 0.02640321,  0.10379411,  0.00231822,  0.17119939])"
       ]
      }
     ],
     "prompt_number": 35
    },
    {
     "cell_type": "code",
     "collapsed": false,
     "input": [
      "print res.predict()"
     ],
     "language": "python",
     "metadata": {},
     "outputs": [
      {
       "output_type": "stream",
       "stream": "stdout",
       "text": [
        "[  4.46056879   4.94595522   5.39226089   5.7725829    6.06972747\n",
        "   6.27903481   6.40914475   6.4805772    6.52236081   6.56726364\n",
        "   6.64640948   6.78416425   6.99413279   7.27692363   7.62004896\n",
        "   7.99997639   8.38599525   8.74526224   9.0481975    9.27334453\n",
        "   9.41089538   9.4643021    9.44970959   9.39330299   9.3270056\n",
        "   9.28323391   9.28957171   9.36423812   9.51309426   9.72868028\n",
        "   9.99144098  10.27293869  10.54052549  10.76270717  10.91431764\n",
        "  10.98065367  10.95989055  10.8633819   10.71379432  10.54138331\n",
        "  10.37902239  10.25680206  10.19708604  10.21083693  10.29581515\n",
        "  10.43694683  10.60880046  10.77976517  10.91724435  10.99301112]\n"
       ]
      }
     ],
     "prompt_number": 36
    },
    {
     "cell_type": "markdown",
     "metadata": {},
     "source": [
      "Let's look at the fit!"
     ]
    },
    {
     "cell_type": "code",
     "collapsed": false,
     "input": [
      "plt.figure(figsize = (10,10));\n",
      "plt.plot(x, y, 'o', x, y_true, 'b-');\n",
      "prstd, iv_l, iv_u = wls_prediction_std(res);\n",
      "plt.plot(x, res.fittedvalues, 'r--.');\n",
      "plt.plot(x, iv_u, 'r--');\n",
      "plt.plot(x, iv_l, 'r--');\n",
      "plt.title('blue: true,   red: OLS');"
     ],
     "language": "python",
     "metadata": {},
     "outputs": [
      {
       "metadata": {},
       "output_type": "display_data",
       "png": "[encoded data removed]",
       "text": [
        "<matplotlib.figure.Figure at 0x10b52add0>"
       ]
      }
     ],
     "prompt_number": 37
    },
    {
     "cell_type": "markdown",
     "metadata": {},
     "source": [
      "## Overfitting"
     ]
    },
    {
     "cell_type": "code",
     "collapsed": false,
     "input": [
      "x = np.array([-0.99768, -0.69574, -0.40373, -0.10236, 0.22024, 0.47742, 0.82229])\n",
      "y = np.array([2.0885, 1.1646, 0.3287, 0.46013, 0.44808, 0.10013, -0.32952])\n",
      "\n",
      "fig, ax = plt.subplots(figsize = (8,6))\n",
      "ax.plot(x, y, 'o', markersize=12)\n",
      "plt.xlim((-1.3, 1.3))"
     ],
     "language": "python",
     "metadata": {},
     "outputs": [
      {
       "metadata": {},
       "output_type": "pyout",
       "prompt_number": 38,
       "text": [
        "(-1.3, 1.3)"
       ]
      },
      {
       "metadata": {},
       "output_type": "display_data",
       "png": "[encoded data removed]",
       "text": [
        "<matplotlib.figure.Figure at 0x10ac91d90>"
       ]
      }
     ],
     "prompt_number": 38
    },
    {
     "cell_type": "code",
     "collapsed": false,
     "input": [
      "X = np.c_[x, np.ones(len(x))]\n",
      "# X = np.vander(x, 1+1)"
     ],
     "language": "python",
     "metadata": {},
     "outputs": [],
     "prompt_number": 69
    },
    {
     "cell_type": "code",
     "collapsed": false,
     "input": [
      "res = sm.OLS(y, X).fit()\n",
      "res.summary()"
     ],
     "language": "python",
     "metadata": {},
     "outputs": [
      {
       "html": [
        "<table class=\"simpletable\">\n",
        "<caption>OLS Regression Results</caption>\n",
        "<tr>\n",
        "  <th>Dep. Variable:</th>            <td>y</td>        <th>  R-squared:         </th> <td>   0.811</td>\n",
        "</tr>\n",
        "<tr>\n",
        "  <th>Model:</th>                   <td>OLS</td>       <th>  Adj. R-squared:    </th> <td>   0.773</td>\n",
        "</tr>\n",
        "<tr>\n",
        "  <th>Method:</th>             <td>Least Squares</td>  <th>  F-statistic:       </th> <td>   21.48</td>\n",
        "</tr>\n",
        "<tr>\n",
        "  <th>Date:</th>             <td>Mon, 20 Oct 2014</td> <th>  Prob (F-statistic):</th>  <td>0.00566</td>\n",
        "</tr>\n",
        "<tr>\n",
        "  <th>Time:</th>                 <td>19:37:19</td>     <th>  Log-Likelihood:    </th> <td> -1.9268</td>\n",
        "</tr>\n",
        "<tr>\n",
        "  <th>No. Observations:</th>      <td>     7</td>      <th>  AIC:               </th> <td>   7.854</td>\n",
        "</tr>\n",
        "<tr>\n",
        "  <th>Df Residuals:</th>          <td>     5</td>      <th>  BIC:               </th> <td>   7.745</td>\n",
        "</tr>\n",
        "<tr>\n",
        "  <th>Df Model:</th>              <td>     1</td>      <th>                     </th>     <td> </td>   \n",
        "</tr>\n",
        "</table>\n",
        "<table class=\"simpletable\">\n",
        "<tr>\n",
        "    <td></td>       <th>coef</th>     <th>std err</th>      <th>t</th>      <th>P>|t|</th> <th>[95.0% Conf. Int.]</th> \n",
        "</tr>\n",
        "<tr>\n",
        "  <th>x1</th>    <td>   -1.0965</td> <td>    0.237</td> <td>   -4.635</td> <td> 0.006</td> <td>   -1.705    -0.488</td>\n",
        "</tr>\n",
        "<tr>\n",
        "  <th>const</th> <td>    0.5022</td> <td>    0.144</td> <td>    3.479</td> <td> 0.018</td> <td>    0.131     0.873</td>\n",
        "</tr>\n",
        "</table>\n",
        "<table class=\"simpletable\">\n",
        "<tr>\n",
        "  <th>Omnibus:</th>       <td>   nan</td> <th>  Durbin-Watson:     </th> <td>   1.343</td>\n",
        "</tr>\n",
        "<tr>\n",
        "  <th>Prob(Omnibus):</th> <td>   nan</td> <th>  Jarque-Bera (JB):  </th> <td>   0.286</td>\n",
        "</tr>\n",
        "<tr>\n",
        "  <th>Skew:</th>          <td>-0.488</td> <th>  Prob(JB):          </th> <td>   0.867</td>\n",
        "</tr>\n",
        "<tr>\n",
        "  <th>Kurtosis:</th>      <td> 2.842</td> <th>  Cond. No.          </th> <td>    1.68</td>\n",
        "</tr>\n",
        "</table>"
       ],
       "metadata": {},
       "output_type": "pyout",
       "prompt_number": 44,
       "text": [
        "<class 'statsmodels.iolib.summary.Summary'>\n",
        "\"\"\"\n",
        "                            OLS Regression Results                            \n",
        "==============================================================================\n",
        "Dep. Variable:                      y   R-squared:                       0.811\n",
        "Model:                            OLS   Adj. R-squared:                  0.773\n",
        "Method:                 Least Squares   F-statistic:                     21.48\n",
        "Date:                Mon, 20 Oct 2014   Prob (F-statistic):            0.00566\n",
        "Time:                        19:37:19   Log-Likelihood:                -1.9268\n",
        "No. Observations:                   7   AIC:                             7.854\n",
        "Df Residuals:                       5   BIC:                             7.745\n",
        "Df Model:                           1                                         \n",
        "==============================================================================\n",
        "                 coef    std err          t      P>|t|      [95.0% Conf. Int.]\n",
        "------------------------------------------------------------------------------\n",
        "x1            -1.0965      0.237     -4.635      0.006        -1.705    -0.488\n",
        "const          0.5022      0.144      3.479      0.018         0.131     0.873\n",
        "==============================================================================\n",
        "Omnibus:                          nan   Durbin-Watson:                   1.343\n",
        "Prob(Omnibus):                    nan   Jarque-Bera (JB):                0.286\n",
        "Skew:                          -0.488   Prob(JB):                        0.867\n",
        "Kurtosis:                       2.842   Cond. No.                         1.68\n",
        "==============================================================================\n",
        "\"\"\""
       ]
      }
     ],
     "prompt_number": 44
    },
    {
     "cell_type": "markdown",
     "metadata": {},
     "source": [
      "### Linear fit"
     ]
    },
    {
     "cell_type": "code",
     "collapsed": false,
     "input": [
      "plt.figure(figsize = (6,6));\n",
      "plt.plot(x, y, 'o');\n",
      "xx = np.linspace(-1.25,1.25,100)\n",
      "plt.plot(xx, res.predict(np.vander(xx,2)), 'r-');\n",
      "plt.title('blue: true,   red: OLS');"
     ],
     "language": "python",
     "metadata": {},
     "outputs": [
      {
       "metadata": {},
       "output_type": "display_data",
       "png": "[encoded data removed]",
       "text": [
        "<matplotlib.figure.Figure at 0x10b5e0e10>"
       ]
      }
     ],
     "prompt_number": 45
    },
    {
     "cell_type": "markdown",
     "metadata": {},
     "source": [
      "### Quadratic"
     ]
    },
    {
     "cell_type": "code",
     "collapsed": false,
     "input": [
      "X = np.c_[x**2, x, np.ones(len(x))]\n",
      "res = sm.OLS(y, X).fit()\n",
      "\n",
      "plt.figure(figsize = (6,6));\n",
      "plt.plot(x, y, 'o');\n",
      "xx = np.linspace(-1.25,1.25,100)\n",
      "plt.plot(xx, res.predict(np.vander(xx,3)), 'r-');\n",
      "plt.title('blue: true,   red: OLS');"
     ],
     "language": "python",
     "metadata": {},
     "outputs": [
      {
       "metadata": {},
       "output_type": "display_data",
       "png": "[encoded data removed]",
       "text": [
        "<matplotlib.figure.Figure at 0x10b5798d0>"
       ]
      }
     ],
     "prompt_number": 46
    },
    {
     "cell_type": "markdown",
     "metadata": {},
     "source": [
      "### Quintic"
     ]
    },
    {
     "cell_type": "code",
     "collapsed": false,
     "input": [
      "X = np.c_[x**5, x**4, x**3, x**2, x, np.ones(len(x))]\n",
      "res = sm.OLS(y, X).fit()\n",
      "\n",
      "plt.figure(figsize = (6,6));\n",
      "plt.plot(x, y, 'o');\n",
      "xx = np.linspace(-1.25,1.1,100)\n",
      "plt.plot(xx, res.predict(np.vander(xx,6)), 'r-');\n",
      "plt.title('blue: true,   red: OLS');"
     ],
     "language": "python",
     "metadata": {},
     "outputs": [
      {
       "metadata": {},
       "output_type": "display_data",
       "png": "[encoded data removed]",
       "text": [
        "<matplotlib.figure.Figure at 0x10b1aeb90>"
       ]
      }
     ],
     "prompt_number": 47
    },
    {
     "cell_type": "markdown",
     "metadata": {},
     "source": [
      "## Regularization"
     ]
    },
    {
     "cell_type": "code",
     "collapsed": false,
     "input": [
      "from sklearn.linear_model import Ridge, Lasso"
     ],
     "language": "python",
     "metadata": {},
     "outputs": [],
     "prompt_number": 48
    },
    {
     "cell_type": "code",
     "collapsed": false,
     "input": [
      "ridge = Ridge(alpha = 1.)\n",
      "ridge.fit(np.vander(x, 6), y)\n",
      "\n",
      "lasso = Lasso(alpha = 0.1)\n",
      "lasso.fit(np.vander(x, 6), y)\n",
      "\n",
      "plt.figure(figsize = (6,6));\n",
      "plt.plot(x, y, 'o');\n",
      "xx = np.linspace(-1.25,1.1,100)\n",
      "plt.plot(xx, res.predict(np.vander(xx,6)), 'r-');\n",
      "plt.plot(xx,  ridge.predict(np.vander(xx, 6)), 'g-', label='Ridge');\n",
      "plt.plot(xx,  lasso.predict(np.vander(xx, 6)), 'c-', label='Lasso');\n",
      "plt.legend(loc='best')"
     ],
     "language": "python",
     "metadata": {},
     "outputs": [
      {
       "metadata": {},
       "output_type": "pyout",
       "prompt_number": 49,
       "text": [
        "<matplotlib.legend.Legend at 0x10b615110>"
       ]
      },
      {
       "metadata": {},
       "output_type": "display_data",
       "png": "[encoded data removed]",
       "text": [
        "<matplotlib.figure.Figure at 0x105ee4e50>"
       ]
      }
     ],
     "prompt_number": 49
    },
    {
     "cell_type": "code",
     "collapsed": false,
     "input": [],
     "language": "python",
     "metadata": {},
     "outputs": [],
     "prompt_number": 49
    },
    {
     "cell_type": "code",
     "collapsed": false,
     "input": [],
     "language": "python",
     "metadata": {},
     "outputs": []
    }
   ],
   "metadata": {}
  }
 ]
}