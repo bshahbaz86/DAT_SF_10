{
 "metadata": {
  "name": "",
  "signature": "sha256:2d66d9cc38e1737dde80a6f5df09d5bdf72f695033923d00a849a9494546ccc5"
 },
 "nbformat": 3,
 "nbformat_minor": 0,
 "worksheets": [
  {
   "cells": [
    {
     "cell_type": "markdown",
     "metadata": {},
     "source": [
      "# GA Data Science (DAT10) - Lab8\n",
      "\n",
      "## K-Means Clustering\n"
     ]
    },
    {
     "cell_type": "markdown",
     "metadata": {},
     "source": [
      "### Create Random Data Set"
     ]
    },
    {
     "cell_type": "markdown",
     "metadata": {},
     "source": [
      "Assignment: generate a series of 80 data points in 2 dimensions (x,y) with the following properties:\n",
      "\n",
      "- there should be 4 clusters of points\n",
      "- each cluster should be formed by points whose coordinates come from a 2D gaussian\n",
      "- the 2D gaussians should have the following centers:\n",
      "- [1,1] , [1,3], [3,1], [3,3]\n",
      "- they should have variance of 0.1, and 0 covariance"
     ]
    },
    {
     "cell_type": "markdown",
     "metadata": {},
     "source": [
      "np.random.multivariate takes 3 parameters:\n",
      "- mean\n",
      "- covariance\n",
      "- number of samples"
     ]
    },
    {
     "cell_type": "code",
     "collapsed": false,
     "input": [
      "import numpy as np\n",
      "import matplotlib.pyplot as plt\n",
      "%matplotlib inline"
     ],
     "language": "python",
     "metadata": {},
     "outputs": [],
     "prompt_number": 39
    },
    {
     "cell_type": "code",
     "collapsed": false,
     "input": [
      "data = np.vstack([np.random.multivariate_normal([1,1],[[.1,0],[0,.1]],20),\n",
      "                 np.random.multivariate_normal([1,3],[[.1,0],[0,.1]],20),\n",
      "                 np.random.multivariate_normal([3,1],[[.1,0],[0,.1]],20),\n",
      "                 np.random.multivariate_normal([3,3],[[.1,0],[0,.1]],20)])"
     ],
     "language": "python",
     "metadata": {},
     "outputs": [],
     "prompt_number": 40
    },
    {
     "cell_type": "code",
     "collapsed": false,
     "input": [
      "data[:10,:]"
     ],
     "language": "python",
     "metadata": {},
     "outputs": [
      {
       "metadata": {},
       "output_type": "pyout",
       "prompt_number": 41,
       "text": [
        "array([[ 0.9898307 ,  1.66749636],\n",
        "       [ 1.05045207,  0.5876737 ],\n",
        "       [ 0.98771416,  1.14207473],\n",
        "       [ 0.94379818,  0.46877573],\n",
        "       [ 1.1199774 ,  1.16724763],\n",
        "       [ 1.45657834,  0.72614367],\n",
        "       [ 0.26383728,  1.48429202],\n",
        "       [ 1.36106211,  1.19292576],\n",
        "       [ 1.11766662,  0.59950433],\n",
        "       [ 1.10043436,  1.52759376]])"
       ]
      }
     ],
     "prompt_number": 41
    },
    {
     "cell_type": "markdown",
     "metadata": {},
     "source": [
      "Plot the points"
     ]
    },
    {
     "cell_type": "code",
     "collapsed": false,
     "input": [
      "plt.scatter(data[:,0], data[:,1])\n",
      "plt.title('4 clusters ?')\n",
      "plt.show()"
     ],
     "language": "python",
     "metadata": {},
     "outputs": [
      {
       "metadata": {},
       "output_type": "display_data",
       "png": "[encoded data removed]",
       "text": [
        "<matplotlib.figure.Figure at 0x10b2b3590>"
       ]
      }
     ],
     "prompt_number": 42
    },
    {
     "cell_type": "markdown",
     "metadata": {},
     "source": [
      "###Load the KMeans Class from sklearn.cluster"
     ]
    },
    {
     "cell_type": "code",
     "collapsed": false,
     "input": [
      "from sklearn.cluster import KMeans"
     ],
     "language": "python",
     "metadata": {},
     "outputs": [],
     "prompt_number": 43
    },
    {
     "cell_type": "markdown",
     "metadata": {},
     "source": [
      "Initialize a KMeans classifier with 4 cluster, random initialization, random_state=1, 1 initial centroid seed and maximum number of iterations equal to 1"
     ]
    },
    {
     "cell_type": "code",
     "collapsed": false,
     "input": [
      "km = KMeans(n_clusters=4,  init='random', n_init=1 , max_iter = 1, random_state=1)"
     ],
     "language": "python",
     "metadata": {},
     "outputs": [],
     "prompt_number": 44
    },
    {
     "cell_type": "markdown",
     "metadata": {},
     "source": [
      "Train the classifier on all the data"
     ]
    },
    {
     "cell_type": "code",
     "collapsed": false,
     "input": [
      "km.fit(data)"
     ],
     "language": "python",
     "metadata": {},
     "outputs": [
      {
       "metadata": {},
       "output_type": "pyout",
       "prompt_number": 45,
       "text": [
        "KMeans(copy_x=True, init='random', max_iter=1, n_clusters=4, n_init=1,\n",
        "    n_jobs=1, precompute_distances=True, random_state=1, tol=0.0001,\n",
        "    verbose=0)"
       ]
      }
     ],
     "prompt_number": 45
    },
    {
     "cell_type": "markdown",
     "metadata": {},
     "source": [
      "Extract the coordinates of the cluster centers"
     ]
    },
    {
     "cell_type": "code",
     "collapsed": false,
     "input": [
      "centroids = km.cluster_centers_\n",
      "centroids"
     ],
     "language": "python",
     "metadata": {},
     "outputs": [
      {
       "metadata": {},
       "output_type": "pyout",
       "prompt_number": 46,
       "text": [
        "array([[ 2.89592453,  1.51670186],\n",
        "       [ 0.90569341,  1.6806865 ],\n",
        "       [ 1.18820268,  2.98821426],\n",
        "       [ 3.14953425,  3.02207784]])"
       ]
      }
     ],
     "prompt_number": 46
    },
    {
     "cell_type": "markdown",
     "metadata": {},
     "source": [
      "Predict the clusters for each data point"
     ]
    },
    {
     "cell_type": "code",
     "collapsed": false,
     "input": [
      "y = km.predict(data)\n",
      "print y"
     ],
     "language": "python",
     "metadata": {},
     "outputs": [
      {
       "output_type": "stream",
       "stream": "stdout",
       "text": [
        "[1 1 1 1 1 1 1 1 1 1 1 1 1 1 1 1 1 1 1 1 2 2 2 2 2 2 2 2 2 2 2 2 2 2 2 2 2\n",
        " 2 2 2 0 0 0 0 0 0 0 0 0 0 0 0 0 0 0 0 0 0 0 0 3 3 3 3 3 3 3 3 3 3 3 3 3 3\n",
        " 3 3 3 3 3 3]\n"
       ]
      }
     ],
     "prompt_number": 47
    },
    {
     "cell_type": "markdown",
     "metadata": {},
     "source": [
      "Plot the points with a different color for each cluster. Plot also the centroids in Red"
     ]
    },
    {
     "cell_type": "code",
     "collapsed": false,
     "input": [
      "fig, ax = plt.subplots(1,1, figsize=(8,8))\n",
      "for t,marker,c in zip(xrange(4),\">ox+\",\"rgby\") :\n",
      "    ax.scatter(data[y == t,0],\n",
      "                data[y == t,1],\n",
      "                marker=marker,\n",
      "                c=c)\n",
      "\n",
      "ax.scatter(centroids[:,0],centroids[:,1],marker = 's',c='r')"
     ],
     "language": "python",
     "metadata": {},
     "outputs": [
      {
       "metadata": {},
       "output_type": "pyout",
       "prompt_number": 48,
       "text": [
        "<matplotlib.collections.PathCollection at 0x10cc0a9d0>"
       ]
      },
      {
       "metadata": {},
       "output_type": "display_data",
       "png": "[encoded data removed]",
       "text": [
        "<matplotlib.figure.Figure at 0x10bdf2350>"
       ]
      }
     ],
     "prompt_number": 48
    },
    {
     "cell_type": "markdown",
     "metadata": {},
     "source": [
      "#### Discussion: what do you see?"
     ]
    },
    {
     "cell_type": "markdown",
     "metadata": {},
     "source": [
      "Let's try with better parameters. Initialize a KMeans classifier with 4 clusters, improved initialization, 10 initial centroid seeds and maximum number of iterations equal to 300."
     ]
    },
    {
     "cell_type": "code",
     "collapsed": false,
     "input": [
      "km = KMeans(n_clusters=4, init='k-means++', n_init=10 , max_iter = 300, random_state=1)"
     ],
     "language": "python",
     "metadata": {},
     "outputs": [],
     "prompt_number": 49
    },
    {
     "cell_type": "markdown",
     "metadata": {},
     "source": [
      "Condense the steps above in a handy function that receives the data and the classifier as input parameters and returns the figure. Make sure you are aware of the number of clusters"
     ]
    },
    {
     "cell_type": "code",
     "collapsed": false,
     "input": [
      "def do_kmeans_4(km, data):\n",
      "    km.fit(data)\n",
      "    centroids = km.cluster_centers_\n",
      "    print \"centroids:\", centroids\n",
      "    y = km.predict(data)\n",
      "    \n",
      "    \n",
      "    fig, ax = plt.subplots(1,1, figsize=(8,8))\n",
      "    for t,marker,c in zip(xrange(4),\">ox+\",\"rgby\") :\n",
      "        ax.scatter(data[y == t,0],\n",
      "                   data[y == t,1],\n",
      "                   marker=marker,\n",
      "                   c=c)\n",
      "\n",
      "    ax.scatter(centroids[:,0],centroids[:,1],marker = 's',c='r')"
     ],
     "language": "python",
     "metadata": {},
     "outputs": [],
     "prompt_number": 50
    },
    {
     "cell_type": "code",
     "collapsed": false,
     "input": [
      "do_kmeans_4(km, data)"
     ],
     "language": "python",
     "metadata": {},
     "outputs": [
      {
       "output_type": "stream",
       "stream": "stdout",
       "text": [
        "centroids: [[ 0.9458036   3.02996791]\n",
        " [ 2.98034212  2.95963823]\n",
        " [ 1.02096331  1.05054536]\n",
        " [ 2.94944755  0.79341091]]\n"
       ]
      },
      {
       "metadata": {},
       "output_type": "display_data",
       "png": "[encoded data removed]",
       "text": [
        "<matplotlib.figure.Figure at 0x10bcbc510>"
       ]
      }
     ],
     "prompt_number": 51
    },
    {
     "cell_type": "markdown",
     "metadata": {},
     "source": [
      "### Blurred boundaries"
     ]
    },
    {
     "cell_type": "markdown",
     "metadata": {},
     "source": [
      "Generate new datapoints that have a bigger variance of 0.5, around the same centroids"
     ]
    },
    {
     "cell_type": "code",
     "collapsed": false,
     "input": [
      "data1 = np.vstack([np.random.multivariate_normal([1,1],[[.5,0],[0,.5]],20),\n",
      "                 np.random.multivariate_normal([1,3],[[.5,0],[0,.5]],20),\n",
      "                 np.random.multivariate_normal([3,1],[[.5,0],[0,.5]],20),\n",
      "                 np.random.multivariate_normal([3,3],[[.5,0],[0,.5]],20)])\n",
      "plt.scatter(data1[:,0], data1[:,1])"
     ],
     "language": "python",
     "metadata": {},
     "outputs": [
      {
       "metadata": {},
       "output_type": "pyout",
       "prompt_number": 52,
       "text": [
        "<matplotlib.collections.PathCollection at 0x10ceb13d0>"
       ]
      },
      {
       "metadata": {},
       "output_type": "display_data",
       "png": "[encoded data removed]",
       "text": [
        "<matplotlib.figure.Figure at 0x10c873110>"
       ]
      }
     ],
     "prompt_number": 52
    },
    {
     "cell_type": "markdown",
     "metadata": {},
     "source": [
      "Initialize a new kmeans classifier"
     ]
    },
    {
     "cell_type": "code",
     "collapsed": false,
     "input": [
      "km = KMeans(n_clusters=4, random_state=1)"
     ],
     "language": "python",
     "metadata": {},
     "outputs": [],
     "prompt_number": 53
    },
    {
     "cell_type": "markdown",
     "metadata": {},
     "source": [
      "Use the previously defined function to fit and plot the new data"
     ]
    },
    {
     "cell_type": "code",
     "collapsed": false,
     "input": [
      "do_kmeans_4(km, data1)"
     ],
     "language": "python",
     "metadata": {},
     "outputs": [
      {
       "output_type": "stream",
       "stream": "stdout",
       "text": [
        "centroids: [[ 3.24089703  1.16701583]\n",
        " [ 1.04777531  1.18339548]\n",
        " [ 1.1203113   3.07984509]\n",
        " [ 3.02108664  3.2195792 ]]\n"
       ]
      },
      {
       "metadata": {},
       "output_type": "display_data",
       "png": "[encoded data removed]",
       "text": [
        "<matplotlib.figure.Figure at 0x10ce77690>"
       ]
      }
     ],
     "prompt_number": 54
    },
    {
     "cell_type": "markdown",
     "metadata": {},
     "source": [
      "Repeat the above with 150 points per cluster"
     ]
    },
    {
     "cell_type": "code",
     "collapsed": false,
     "input": [
      "data1 = np.vstack([np.random.multivariate_normal([1,1],[[.5,0],[0,.5]],150),\n",
      "                 np.random.multivariate_normal([1,3],[[.5,0],[0,.5]],150),\n",
      "                 np.random.multivariate_normal([3,1],[[.5,0],[0,.5]],150),\n",
      "                 np.random.multivariate_normal([3,3],[[.5,0],[0,.5]],150)])\n",
      "plt.scatter(data1[:,0], data1[:,1])"
     ],
     "language": "python",
     "metadata": {},
     "outputs": [
      {
       "metadata": {},
       "output_type": "pyout",
       "prompt_number": 55,
       "text": [
        "<matplotlib.collections.PathCollection at 0x10cfae390>"
       ]
      },
      {
       "metadata": {},
       "output_type": "display_data",
       "png": "[encoded data removed]",
       "text": [
        "<matplotlib.figure.Figure at 0x10cc3d150>"
       ]
      }
     ],
     "prompt_number": 55
    },
    {
     "cell_type": "code",
     "collapsed": false,
     "input": [
      "do_kmeans_4(km, data1)"
     ],
     "language": "python",
     "metadata": {},
     "outputs": [
      {
       "output_type": "stream",
       "stream": "stdout",
       "text": [
        "centroids: [[ 2.97980779  0.95363573]\n",
        " [ 0.84795804  3.01624371]\n",
        " [ 2.85438356  3.09580469]\n",
        " [ 0.85237085  0.80411835]]\n"
       ]
      },
      {
       "metadata": {},
       "output_type": "display_data",
       "png": "[encoded data removed]",
       "text": [
        "<matplotlib.figure.Figure at 0x10cccf610>"
       ]
      }
     ],
     "prompt_number": 56
    },
    {
     "cell_type": "markdown",
     "metadata": {},
     "source": [
      "#### Discussion: what do you see?"
     ]
    },
    {
     "cell_type": "markdown",
     "metadata": {},
     "source": [
      "### Multiple scales"
     ]
    },
    {
     "cell_type": "markdown",
     "metadata": {},
     "source": [
      "Let's change the mean and the variance of one of the cluster. Set the mean to [100,100] and the variance to [[20,0],[0,50]]. Generate 20 points"
     ]
    },
    {
     "cell_type": "code",
     "collapsed": false,
     "input": [
      "data2 = np.vstack([np.random.multivariate_normal([1,1],[[.3,0],[0,.3]],20),\n",
      "                 np.random.multivariate_normal([1,3],[[.3,0],[0,.3]],20),\n",
      "                 np.random.multivariate_normal([3,1],[[.3,0],[0,.3]],20),\n",
      "                 np.random.multivariate_normal([100,100],[[20,0],[0,50]],20)])\n",
      "plt.scatter(data2[:,0], data2[:,1])"
     ],
     "language": "python",
     "metadata": {},
     "outputs": [
      {
       "metadata": {},
       "output_type": "pyout",
       "prompt_number": 57,
       "text": [
        "<matplotlib.collections.PathCollection at 0x10c845810>"
       ]
      },
      {
       "metadata": {},
       "output_type": "display_data",
       "png": "[encoded data removed]",
       "text": [
        "<matplotlib.figure.Figure at 0x10ce09c50>"
       ]
      }
     ],
     "prompt_number": 57
    },
    {
     "cell_type": "markdown",
     "metadata": {},
     "source": [
      "#### Discussion: what do you expect to happen now?"
     ]
    },
    {
     "cell_type": "code",
     "collapsed": false,
     "input": [
      "do_kmeans_4(km, data2)"
     ],
     "language": "python",
     "metadata": {},
     "outputs": [
      {
       "output_type": "stream",
       "stream": "stdout",
       "text": [
        "centroids: [[   1.74707106    1.73871527]\n",
        " [  96.25094565  101.64487336]\n",
        " [ 102.27765118   93.15219041]\n",
        " [  98.92330871  112.39385924]]\n"
       ]
      },
      {
       "metadata": {},
       "output_type": "display_data",
       "png": "[encoded data removed]",
       "text": [
        "<matplotlib.figure.Figure at 0x10bfa6910>"
       ]
      }
     ],
     "prompt_number": 58
    },
    {
     "cell_type": "markdown",
     "metadata": {},
     "source": [
      "#### Discussion: what to do now?"
     ]
    },
    {
     "cell_type": "markdown",
     "metadata": {},
     "source": [
      "## Let's find clusters in the Iris Dataset"
     ]
    },
    {
     "cell_type": "markdown",
     "metadata": {},
     "source": [
      "Import the data from the iris dataset in sklearn, generate X and y arrays"
     ]
    },
    {
     "cell_type": "code",
     "collapsed": false,
     "input": [
      "from sklearn import datasets\n",
      "\n",
      "iris = datasets.load_iris()\n",
      "\n",
      "X = iris['data']\n",
      "Names = iris['feature_names']\n",
      "target_names = iris['target_names']\n",
      "y = iris['target']"
     ],
     "language": "python",
     "metadata": {},
     "outputs": [],
     "prompt_number": 59
    },
    {
     "cell_type": "markdown",
     "metadata": {},
     "source": [
      "Display the features names"
     ]
    },
    {
     "cell_type": "code",
     "collapsed": false,
     "input": [
      "Names"
     ],
     "language": "python",
     "metadata": {},
     "outputs": [
      {
       "metadata": {},
       "output_type": "pyout",
       "prompt_number": 60,
       "text": [
        "['sepal length (cm)',\n",
        " 'sepal width (cm)',\n",
        " 'petal length (cm)',\n",
        " 'petal width (cm)']"
       ]
      }
     ],
     "prompt_number": 60
    },
    {
     "cell_type": "markdown",
     "metadata": {},
     "source": [
      "Plot the Sepal width versus Petal Width with colors according to species"
     ]
    },
    {
     "cell_type": "code",
     "collapsed": false,
     "input": [
      "fig, ax = plt.subplots(1,1, figsize=(8,8))\n",
      "for t,marker,c,n in zip(xrange(3),\">ox\",\"rgb\",target_names):\n",
      "    ax.scatter(X[y == t,1],\n",
      "               X[y == t,3],\n",
      "               marker=marker,\n",
      "               c=c,\n",
      "               label=n)\n",
      "\n",
      "plt.xlabel('Sepal width (cm)')\n",
      "plt.ylabel('Sepal width (cm)')\n",
      "plt.title('Sepal width (cm) VS Petal width (cm)')\n",
      "plt.legend(loc='best')\n",
      "plt.show()"
     ],
     "language": "python",
     "metadata": {},
     "outputs": [
      {
       "metadata": {},
       "output_type": "display_data",
       "png": "[encoded data removed]",
       "text": [
        "<matplotlib.figure.Figure at 0x10b979250>"
       ]
      }
     ],
     "prompt_number": 61
    },
    {
     "cell_type": "markdown",
     "metadata": {},
     "source": [
      "### Exercise 1: Implement Kmeans on Iris Data Set\n",
      "\n",
      "### Using 3 clusters, fit and and predict using Kmeans"
     ]
    },
    {
     "cell_type": "code",
     "collapsed": false,
     "input": [
      "km = KMeans(n_clusters=3, random_state=1)\n",
      "km.fit(X)\n",
      "centroids = km.cluster_centers_\n",
      "yy = km.predict(X)\n",
      "yy"
     ],
     "language": "python",
     "metadata": {},
     "outputs": [
      {
       "metadata": {},
       "output_type": "pyout",
       "prompt_number": 62,
       "text": [
        "array([1, 1, 1, 1, 1, 1, 1, 1, 1, 1, 1, 1, 1, 1, 1, 1, 1, 1, 1, 1, 1, 1, 1,\n",
        "       1, 1, 1, 1, 1, 1, 1, 1, 1, 1, 1, 1, 1, 1, 1, 1, 1, 1, 1, 1, 1, 1, 1,\n",
        "       1, 1, 1, 1, 0, 0, 2, 0, 0, 0, 0, 0, 0, 0, 0, 0, 0, 0, 0, 0, 0, 0, 0,\n",
        "       0, 0, 0, 0, 0, 0, 0, 0, 2, 0, 0, 0, 0, 0, 0, 0, 0, 0, 0, 0, 0, 0, 0,\n",
        "       0, 0, 0, 0, 0, 0, 0, 0, 2, 0, 2, 2, 2, 2, 0, 2, 2, 2, 2, 2, 2, 0, 0,\n",
        "       2, 2, 2, 2, 0, 2, 0, 2, 0, 2, 2, 0, 0, 2, 2, 2, 2, 2, 0, 2, 2, 2, 2,\n",
        "       0, 2, 2, 2, 0, 2, 2, 2, 0, 2, 2, 0], dtype=int32)"
       ]
      }
     ],
     "prompt_number": 62
    },
    {
     "cell_type": "markdown",
     "metadata": {},
     "source": [
      "### Exercise 2: Plot Results\n",
      "#### Here's code for plotting the true clusters as the first of two subplots.  "
     ]
    },
    {
     "cell_type": "code",
     "collapsed": false,
     "input": [
      "fig, (ax1, ax2) = plt.subplots( 1,2, figsize=(10,6), sharex=True, sharey=True)\n",
      "\n",
      "## first the true clusters\n",
      "for t,marker,c,n in zip(xrange(3),\">ox\",\"rgb\",target_names):\n",
      "    ax1.scatter(X[y == t,1],\n",
      "               X[y == t,3],\n",
      "               marker=marker,\n",
      "               c=c,\n",
      "               label=n)\n",
      "\n",
      "ax1.set_xlabel('Sepal width (cm)')\n",
      "ax1.set_ylabel('Sepal width (cm)')\n",
      "ax1.set_title('Sepal width (cm) VS Petal width (cm)')\n",
      "ax1.legend(loc='best')\n"
     ],
     "language": "python",
     "metadata": {},
     "outputs": [
      {
       "metadata": {},
       "output_type": "pyout",
       "prompt_number": 75,
       "text": [
        "<matplotlib.legend.Legend at 0x10bfa5090>"
       ]
      },
      {
       "metadata": {},
       "output_type": "display_data",
       "png": "[encoded data removed]",
       "text": [
        "<matplotlib.figure.Figure at 0x10bfa58d0>"
       ]
      }
     ],
     "prompt_number": 75
    },
    {
     "cell_type": "markdown",
     "metadata": {},
     "source": [
      "#### Add code to plot the results from the Kmeans as second subplot \n",
      "#### (Hint: Code is very similar to first plot, use ax2 as name of second plot and add code for plotting centroids)"
     ]
    },
    {
     "cell_type": "code",
     "collapsed": false,
     "input": [
      "for t,marker,c,n in zip(xrange(3),\">ox\",\"rgb\",set(km.labels_)):\n",
      "    ax2.scatter(X[yy == t,1],\n",
      "               X[yy == t,3],\n",
      "               marker=marker,\n",
      "               c=c,\n",
      "               label=n)\n",
      "\n",
      "ax2.scatter(centroids[:,1],centroids[:,3],marker = 's',c='r', label='centroids')\n",
      "    \n",
      "ax2.set_xlabel('Sepal width (cm)')\n",
      "ax2.set_ylabel('Sepal width (cm)')\n",
      "ax2.set_title('Sepal width (cm) VS Petal width (cm)')\n",
      "ax2.legend(loc='best')\n",
      "plt.show()"
     ],
     "language": "python",
     "metadata": {},
     "outputs": [],
     "prompt_number": 76
    },
    {
     "cell_type": "markdown",
     "metadata": {},
     "source": [
      "#### After adding code for subplot run the code below to view the results.\n",
      "#### How well does Kmeans perform?\n",
      "#### What are the pros and cons of unsupervised learning?"
     ]
    },
    {
     "cell_type": "code",
     "collapsed": false,
     "input": [
      "plt.show()"
     ],
     "language": "python",
     "metadata": {},
     "outputs": [],
     "prompt_number": 65
    },
    {
     "cell_type": "markdown",
     "metadata": {},
     "source": [
      "### Silhouette score"
     ]
    },
    {
     "cell_type": "code",
     "collapsed": false,
     "input": [
      "from sklearn import metrics\n",
      "from sklearn.metrics import pairwise_distances\n",
      "\n",
      "km = KMeans(n_clusters=3, random_state=1)\n",
      "km.fit(X)\n",
      "labels = km.labels_\n",
      "metrics.silhouette_score(X, labels, metric='euclidean')"
     ],
     "language": "python",
     "metadata": {},
     "outputs": [
      {
       "metadata": {},
       "output_type": "pyout",
       "prompt_number": 69,
       "text": [
        "0.5525919445213674"
       ]
      }
     ],
     "prompt_number": 69
    },
    {
     "cell_type": "markdown",
     "metadata": {},
     "source": [
      "calculate the Silhouette score for different values of k"
     ]
    },
    {
     "cell_type": "code",
     "collapsed": false,
     "input": [
      "for k in xrange(2,8):\n",
      "    km = KMeans(n_clusters=k, random_state=1)\n",
      "    km.fit(X)\n",
      "    labels = km.labels_\n",
      "    print k, metrics.silhouette_score(X, labels, metric='euclidean')\n",
      "    "
     ],
     "language": "python",
     "metadata": {},
     "outputs": [
      {
       "output_type": "stream",
       "stream": "stdout",
       "text": [
        " 2 0.680813620271\n",
        "3 "
       ]
      },
      {
       "output_type": "stream",
       "stream": "stdout",
       "text": [
        "0.552591944521\n",
        "4 "
       ]
      },
      {
       "output_type": "stream",
       "stream": "stdout",
       "text": [
        "0.496992849949\n",
        "5 "
       ]
      },
      {
       "output_type": "stream",
       "stream": "stdout",
       "text": [
        "0.488517550854\n",
        "6 "
       ]
      },
      {
       "output_type": "stream",
       "stream": "stdout",
       "text": [
        "0.371218050256\n",
        "7 "
       ]
      },
      {
       "output_type": "stream",
       "stream": "stdout",
       "text": [
        "0.355379055751\n"
       ]
      }
     ],
     "prompt_number": 74
    },
    {
     "cell_type": "code",
     "collapsed": false,
     "input": [],
     "language": "python",
     "metadata": {},
     "outputs": [],
     "prompt_number": 67
    }
   ],
   "metadata": {}
  }
 ]
}