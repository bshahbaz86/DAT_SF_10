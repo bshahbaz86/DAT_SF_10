{
 "metadata": {
  "name": "",
  "signature": "sha256:a83911ab0fee618b7a3a7a228055b8f6ec4696bcbc1af191133775c6642454c2"
 },
 "nbformat": 3,
 "nbformat_minor": 0,
 "worksheets": [
  {
   "cells": [
    {
     "cell_type": "markdown",
     "metadata": {},
     "source": [
      "##1. Classify the raw data using a linear SVM. Do you need to perform several binary classifications or does scikit-learn support multi-class classification with SVMs?"
     ]
    },
    {
     "cell_type": "code",
     "collapsed": false,
     "input": [
      "import pandas as pd\n",
      "data_url = 'https://archive.ics.uci.edu/ml/machine-learning-databases/wine/wine.data'\n",
      "feature_names = ['Class','Alcohol' ,'Malic_acid', 'Ash' ,'Alcalin' ,'Magn' ,'Phenols' ,'Flava', 'Nonflav', 'Proanth', 'Color' ,'Hue' ,'OD280' ,'Proline'] \n",
      "data = pd.read_csv(data_url, header = None, names = feature_names)\n",
      "data.info()"
     ],
     "language": "python",
     "metadata": {},
     "outputs": [
      {
       "output_type": "stream",
       "stream": "stdout",
       "text": [
        "<class 'pandas.core.frame.DataFrame'>\n",
        "Int64Index: 178 entries, 0 to 177\n",
        "Data columns (total 14 columns):\n",
        "Class         178 non-null int64\n",
        "Alcohol       178 non-null float64\n",
        "Malic_acid    178 non-null float64\n",
        "Ash           178 non-null float64\n",
        "Alcalin       178 non-null float64\n",
        "Magn          178 non-null int64\n",
        "Phenols       178 non-null float64\n",
        "Flava         178 non-null float64\n",
        "Nonflav       178 non-null float64\n",
        "Proanth       178 non-null float64\n",
        "Color         178 non-null float64\n",
        "Hue           178 non-null float64\n",
        "OD280         178 non-null float64\n",
        "Proline       178 non-null int64\n",
        "dtypes: float64(11), int64(3)"
       ]
      }
     ],
     "prompt_number": 3
    },
    {
     "cell_type": "code",
     "collapsed": false,
     "input": [
      "from sklearn import svm\n",
      "features = data.drop('Class',axis=1).values\n",
      "targets = data.Class.values\n",
      "model = svm.SVC(kernel='linear')\n",
      "model.fit(features,targets)\n",
      "model.score(features,targets)\n",
      "#scikit-learn allows multi-class with SVM's"
     ],
     "language": "python",
     "metadata": {},
     "outputs": [
      {
       "metadata": {},
       "output_type": "pyout",
       "prompt_number": 5,
       "text": [
        "0.9943820224719101"
       ]
      }
     ],
     "prompt_number": 5
    },
    {
     "cell_type": "markdown",
     "metadata": {},
     "source": [
      "##2. Cross validate the result"
     ]
    },
    {
     "cell_type": "code",
     "collapsed": false,
     "input": [
      "from sklearn.cross_validation import KFold\n",
      "\n",
      "def cross_validate(X, y, classifier, k_fold) :\n",
      "\n",
      "    # derive a set of (random) training and testing indices\n",
      "    k_fold_indices = KFold(len(X), n_folds=k_fold,\n",
      "                           shuffle=True, random_state=0)\n",
      "\n",
      "    k_score_total = 0\n",
      "    # for each training and testing slices run the classifier, and score the results\n",
      "    for train_slice, test_slice in k_fold_indices :\n",
      "\n",
      "        model = classifier(X[ train_slice  ],\n",
      "                         y[ train_slice  ])\n",
      "\n",
      "        k_score = model.score(X[ test_slice ],\n",
      "                              y[ test_slice ])\n",
      "\n",
      "        k_score_total += k_score\n",
      "\n",
      "    # return the average accuracy\n",
      "    return k_score_total/k_fold"
     ],
     "language": "python",
     "metadata": {},
     "outputs": [],
     "prompt_number": 6
    },
    {
     "cell_type": "code",
     "collapsed": false,
     "input": [
      "model = model.fit\n",
      "cross_validate(features,targets, model, 10)"
     ],
     "language": "python",
     "metadata": {},
     "outputs": [
      {
       "metadata": {},
       "output_type": "pyout",
       "prompt_number": 7,
       "text": [
        "0.95490196078431366"
       ]
      }
     ],
     "prompt_number": 7
    },
    {
     "cell_type": "markdown",
     "metadata": {},
     "source": [
      "##3. Preprocess the data with a normalization step, using the tools explained here:\n",
      "http://scikit-learn.org/stable/modules/preprocessing.html#standardization-or-mean-removal-and-variance-scaling"
     ]
    },
    {
     "cell_type": "code",
     "collapsed": false,
     "input": [
      "from sklearn import preprocessing\n",
      "normalized_features = preprocessing.scale(features)\n",
      "model = svm.SVC(kernel='linear')\n",
      "model.fit(features,targets)"
     ],
     "language": "python",
     "metadata": {},
     "outputs": [
      {
       "metadata": {},
       "output_type": "pyout",
       "prompt_number": 13,
       "text": [
        "SVC(C=1.0, cache_size=200, class_weight=None, coef0=0.0, degree=3, gamma=0.0,\n",
        "  kernel='linear', max_iter=-1, probability=False, random_state=None,\n",
        "  shrinking=True, tol=0.001, verbose=False)"
       ]
      }
     ],
     "prompt_number": 13
    },
    {
     "cell_type": "code",
     "collapsed": false,
     "input": [
      "model = model.fit\n",
      "cross_validate(normalized_features,targets, model, 10)\n",
      "#accuracy level improves slightly"
     ],
     "language": "python",
     "metadata": {},
     "outputs": [
      {
       "metadata": {},
       "output_type": "pyout",
       "prompt_number": 14,
       "text": [
        "0.95555555555555571"
       ]
      }
     ],
     "prompt_number": 14
    },
    {
     "cell_type": "markdown",
     "metadata": {},
     "source": [
      "##4. Repeat the classification performed in step 1 using a linear SVM and crossvalidate the result. Is it better or worse?"
     ]
    },
    {
     "cell_type": "code",
     "collapsed": false,
     "input": [
      "from sklearn.svm import LinearSVC\n",
      "linear_model = LinearSVC(C=1.0).fit\n",
      "cross_validate(features, targets, linear_model, 10)\n",
      "#accuracy level goes down with original dataset"
     ],
     "language": "python",
     "metadata": {},
     "outputs": [
      {
       "metadata": {},
       "output_type": "pyout",
       "prompt_number": 18,
       "text": [
        "0.87091503267973869"
       ]
      }
     ],
     "prompt_number": 18
    },
    {
     "cell_type": "code",
     "collapsed": false,
     "input": [
      "cross_validate(normalized_features, targets, linear_model, 10)\n",
      "#accuracy level goes up with normalized data"
     ],
     "language": "python",
     "metadata": {},
     "outputs": [
      {
       "metadata": {},
       "output_type": "pyout",
       "prompt_number": 19,
       "text": [
        "0.98888888888888893"
       ]
      }
     ],
     "prompt_number": 19
    },
    {
     "cell_type": "markdown",
     "metadata": {},
     "source": [
      "##5. implement a pipeline that comprises:\n",
      "- a preprocessing step\n",
      "- a classification step\n",
      "and run the pipeline on the raw data (not normalized)"
     ]
    },
    {
     "cell_type": "code",
     "collapsed": false,
     "input": [
      "from sklearn.pipeline import Pipeline\n",
      "from sklearn.preprocessing import Normalizer\n",
      "estimators = [('preprocess', preprocessing.StandardScaler()), ('classification', svm.SVC(kernel='linear'))]\n",
      "my_pipeline = Pipeline(estimators)\n",
      "my_pipeline = my_pipeline.fit"
     ],
     "language": "python",
     "metadata": {},
     "outputs": [],
     "prompt_number": 24
    },
    {
     "cell_type": "code",
     "collapsed": false,
     "input": [
      "cross_validate(features, targets, my_pipeline, 10)"
     ],
     "language": "python",
     "metadata": {},
     "outputs": [
      {
       "metadata": {},
       "output_type": "pyout",
       "prompt_number": 26,
       "text": [
        "0.95555555555555571"
       ]
      }
     ],
     "prompt_number": 26
    },
    {
     "cell_type": "markdown",
     "metadata": {},
     "source": [
      "##6. Try varying the value of C or the type of kernel. Do you get better results?"
     ]
    },
    {
     "cell_type": "code",
     "collapsed": false,
     "input": [
      "#Varying value of C\n",
      "C = [0.1, 1, 10,100]\n",
      "\n",
      "for c in C:\n",
      "    model = svm.SVC(C=c, kernel='linear').fit\n",
      "    score = cross_validate(features, targets, model, 10)\n",
      "    print \"C: {0} | Score: {1}\".format(c, score)"
     ],
     "language": "python",
     "metadata": {},
     "outputs": [
      {
       "output_type": "stream",
       "stream": "stdout",
       "text": [
        "C: 0.1 | Score: 0.966339869281\n",
        "C: 1 | Score: 0.954901960784"
       ]
      },
      {
       "output_type": "stream",
       "stream": "stdout",
       "text": [
        "\n",
        "C: 10 | Score: 0.954901960784"
       ]
      },
      {
       "output_type": "stream",
       "stream": "stdout",
       "text": [
        "\n",
        "C: 100 | Score: 0.954901960784"
       ]
      },
      {
       "output_type": "stream",
       "stream": "stdout",
       "text": [
        "\n"
       ]
      }
     ],
     "prompt_number": 39
    },
    {
     "cell_type": "code",
     "collapsed": false,
     "input": [
      "#Varying Kernel type\n",
      "kernels = ('linear', 'poly', 'rbf', 'sigmoid')\n",
      "\n",
      "for k in kernels:\n",
      "    model = svm.SVC(C=1.0, kernel=k).fit\n",
      "    score = cross_validate(features, targets, model, 10)\n",
      "    print \"Kernel: {0} | Score: {1}\".format(k, score)"
     ],
     "language": "python",
     "metadata": {},
     "outputs": [
      {
       "output_type": "stream",
       "stream": "stdout",
       "text": [
        "Kernel: linear | Score: 0.954901960784\n",
        "Kernel: poly | Score: 0.949673202614"
       ]
      },
      {
       "output_type": "stream",
       "stream": "stdout",
       "text": [
        "\n",
        "Kernel: rbf | Score: 0.460784313725\n",
        "Kernel: sigmoid | Score: 0.399019607843\n"
       ]
      }
     ],
     "prompt_number": 42
    },
    {
     "cell_type": "markdown",
     "metadata": {},
     "source": [
      "##7. Learn about grid search here:\n",
      "http://scikit-learn.org/stable/modules/grid_search.html\n",
      "and feed your pipeline classifier to the grid search. Explore a range of values for C, gamma and the type of kernel. Can you find an optimum value?"
     ]
    },
    {
     "cell_type": "code",
     "collapsed": false,
     "input": [
      "parameters = {'kernel':('linear', 'poly', 'rbf', 'sigmoid'), 'C':[0.1, 1, 10,100], 'gamma':[0,1,10,100]}\n",
      "SVR = svm.SVC()\n",
      "grid = GridSearchCV(SVR, parameters)\n",
      "grid.fit(features,targets)"
     ],
     "language": "python",
     "metadata": {},
     "outputs": [
      {
       "metadata": {},
       "output_type": "pyout",
       "prompt_number": 43,
       "text": [
        "GridSearchCV(cv=None,\n",
        "       estimator=SVC(C=1.0, cache_size=200, class_weight=None, coef0=0.0, degree=3, gamma=0.0,\n",
        "  kernel='rbf', max_iter=-1, probability=False, random_state=None,\n",
        "  shrinking=True, tol=0.001, verbose=False),\n",
        "       fit_params={}, iid=True, loss_func=None, n_jobs=1,\n",
        "       param_grid={'kernel': ('linear', 'poly', 'rbf', 'sigmoid'), 'C': [0.1, 1, 10, 100], 'gamma': [0, 1, 10, 100]},\n",
        "       pre_dispatch='2*n_jobs', refit=True, score_func=None, scoring=None,\n",
        "       verbose=0)"
       ]
      }
     ],
     "prompt_number": 43
    },
    {
     "cell_type": "code",
     "collapsed": false,
     "input": [
      "grid.best_params_"
     ],
     "language": "python",
     "metadata": {},
     "outputs": [
      {
       "metadata": {},
       "output_type": "pyout",
       "prompt_number": 44,
       "text": [
        "{'C': 0.1, 'gamma': 0, 'kernel': 'linear'}"
       ]
      }
     ],
     "prompt_number": 44
    },
    {
     "cell_type": "code",
     "collapsed": false,
     "input": [
      "grid.best_score_"
     ],
     "language": "python",
     "metadata": {},
     "outputs": [
      {
       "metadata": {},
       "output_type": "pyout",
       "prompt_number": 45,
       "text": [
        "0.9550561797752809"
       ]
      }
     ],
     "prompt_number": 45
    }
   ],
   "metadata": {}
  }
 ]
}