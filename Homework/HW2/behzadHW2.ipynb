{
 "metadata": {
  "name": "",
  "signature": "sha256:e7ebcff814e04cb95283f2e9ab67564bdb4908a4891a8da7cea8e770e8e835df"
 },
 "nbformat": 3,
 "nbformat_minor": 0,
 "worksheets": [
  {
   "cells": [
    {
     "cell_type": "code",
     "collapsed": false,
     "input": [
      "#####Homework 2#####\n",
      "\n",
      "#import and pull iris.csv into pandas\n",
      "import pandas as pd\n",
      "\n",
      "#create a list of column headers/names\n",
      "featureNames = ['sL', 'sW', 'pL', 'pW']\n",
      "targetName = 'class'\n",
      "\n",
      "colNames = list(featureNames)\n",
      "colNames.append(targetName)\n",
      "\n",
      "#read iris file with column headers\n",
      "#skipping footer as it has NaN value\n",
      "iris = pd.read_csv('iris.csv',names = colNames, skipfooter = 1)\n",
      "# iris"
     ],
     "language": "python",
     "metadata": {},
     "outputs": [],
     "prompt_number": 388
    },
    {
     "cell_type": "code",
     "collapsed": false,
     "input": [
      "#Define X and y\n",
      "X = iris[featureNames].values\n",
      "y = iris[targetName].values\n",
      "# y can also be defined as follows \n",
      "# y = iris['class'].replace('Iris-setosa','0').replace('Iris-versicolor','1').replace('Iris-virginica','2').values"
     ],
     "language": "python",
     "metadata": {},
     "outputs": [],
     "prompt_number": 389
    },
    {
     "cell_type": "code",
     "collapsed": false,
     "input": [
      "#####Question 1\n",
      "from sklearn.cross_validation import train_test_split\n",
      "X_train, X_test, y_train, y_test = train_test_split( X, y, test_size=0.20, random_state=0)\n",
      "from sklearn.neighbors import KNeighborsClassifier\n",
      "myknn = KNeighborsClassifier(5).fit(X_train,y_train)\n",
      "myknn.score(X_test, y_test)"
     ],
     "language": "python",
     "metadata": {},
     "outputs": [
      {
       "metadata": {},
       "output_type": "pyout",
       "prompt_number": 390,
       "text": [
        "0.96666666666666667"
       ]
      }
     ],
     "prompt_number": 390
    },
    {
     "cell_type": "code",
     "collapsed": false,
     "input": [
      "#####Question 2\n",
      "\n",
      "#set up xVlaidation parameters\n",
      "knn = KNeighborsClassifier(3)  \n",
      "cv = KFold(len(iris), n_folds=5)\n",
      "\n",
      "#begin implementing a custom cross validation\n",
      "from sklearn.cross_validation import KFold\n",
      "import numpy as np\n",
      "\n",
      "# create a function to score for different folds\n",
      "def scoreXvalidation(validator, classifier, X, y, cv):\n",
      "    test_scores = np.array(validator(classifier, X, y, cv=cv))\n",
      "    print \"XValidation scores: {}\".format(test_scores)\n",
      "    \n",
      "## test outofthebox sklearn function to see the final results\n",
      "# from sklearn.cross_validation import cross_val_score\n",
      "# scoreXvalidation(cross_val_score, knn, X, y, cv)\n",
      "# final results:\n",
      "# XValidation scores: [ 1.          1.          0.83333333  0.93333333  0.76666667]\n",
      "\n",
      "# now, create a custom cross validation function\n",
      "def customXvalidation(classifier, X, y, cv):\n",
      "    scores = []\n",
      "\n",
      "    for train, test in cv:\n",
      "        myknn = classifier.fit(X[train], y[train])\n",
      "        scores.append(myknn.score(X[test], y[test]))\n",
      "\n",
      "    return scores\n",
      "\n",
      "# execute both functions together with original xValidation paramaters\n",
      "scoreXvalidation(customXvalidation, knn, X, y, cv)"
     ],
     "language": "python",
     "metadata": {},
     "outputs": [
      {
       "output_type": "stream",
       "stream": "stdout",
       "text": [
        "XValidation scores: [ 1.          1.          0.83333333  0.93333333  0.76666667]\n"
       ]
      }
     ],
     "prompt_number": 391
    },
    {
     "cell_type": "code",
     "collapsed": false,
     "input": [
      "#custom xValdiation scores match out-of-the-box sklearn results"
     ],
     "language": "python",
     "metadata": {},
     "outputs": [],
     "prompt_number": 377
    },
    {
     "cell_type": "code",
     "collapsed": false,
     "input": [
      "#####Question 3\n",
      "import numpy as np\n",
      "rawScores = []\n",
      "meanScores = []\n",
      "\n",
      "#iterate through a range of neighbors and get the scores\n",
      "for n in xrange(1,121):\n",
      "    classifier = KNeighborsClassifier(n)\n",
      "    cv = KFold(len(X), n_folds = 5, shuffle = True)\n",
      "    rawScores.append(customXvalidation(classifier,X,y,cv=cv))\n",
      "\n",
      "# get the means for each K iteration\n",
      "    meanScores.append(np.array(rawScores).mean())\n",
      "    #print meanScores\n",
      "\n",
      "# identify max score and corresponding K for each iteration\n",
      "    maxScores = max(meanScores)\n",
      "    #print maxScores\n",
      "    maxIndex = meanScores.index(maxScores)\n",
      "    #print maxIndex\n",
      "    print \"Score: {0} for Neighbors K: {1} \".format(maxScores,maxIndex) \n",
      "\n",
      "#Optimal value of K: 16 with accuracy level of ~ 96%\n",
      "#After printing above results a few times, high accuracy level is obtained when K is between 12 to 16\n",
      "#I picked 16 as it results in the highest accuracy level"
     ],
     "language": "python",
     "metadata": {},
     "outputs": [
      {
       "output_type": "stream",
       "stream": "stdout",
       "text": [
        "Score: 0.96 for Neighbors K: 0 \n",
        "Score: 0.96 for Neighbors K: 0 \n",
        "Score: 0.96 for Neighbors K: 0 \n",
        "Score: 0.96 for Neighbors K: 0 \n",
        "Score: 0.96 for Neighbors K: 0 \n",
        "Score: 0.96 for Neighbors K: 0 \n",
        "Score: 0.96 for Neighbors K: 0 \n",
        "Score: 0.96 for Neighbors K: 0 \n",
        "Score: 0.96 for Neighbors K: 8 \n",
        "Score: 0.960666666667 for Neighbors K: 9 \n",
        "Score: 0.961212121212 for Neighbors K: 10 \n",
        "Score: 0.961212121212 for Neighbors K: 10 "
       ]
      },
      {
       "output_type": "stream",
       "stream": "stdout",
       "text": [
        "\n",
        "Score: 0.962051282051 for Neighbors K: 12 \n",
        "Score: 0.962857142857 for Neighbors K: 13 \n",
        "Score: 0.963555555556 for Neighbors K: 14 \n",
        "Score: 0.963555555556 for Neighbors K: 14 \n",
        "Score: 0.963555555556 for Neighbors K: 14 \n",
        "Score: 0.963555555556 for Neighbors K: 14 \n",
        "Score: 0.963555555556 for Neighbors K: 14 \n",
        "Score: 0.963555555556 for Neighbors K: 14 \n",
        "Score: 0.963555555556 for Neighbors K: 14 "
       ]
      },
      {
       "output_type": "stream",
       "stream": "stdout",
       "text": [
        "\n",
        "Score: 0.963555555556 for Neighbors K: 14 \n",
        "Score: 0.963555555556 for Neighbors K: 14 \n",
        "Score: 0.963555555556 for Neighbors K: 14 \n",
        "Score: 0.963555555556 for Neighbors K: 14 \n",
        "Score: 0.963555555556 for Neighbors K: 14 \n",
        "Score: 0.963555555556 for Neighbors K: 14 \n",
        "Score: 0.963555555556 for Neighbors K: 14 \n",
        "Score: 0.963555555556 for Neighbors K: 14 \n",
        "Score: 0.963555555556 for Neighbors K: 14 \n",
        "Score: 0.963555555556 for Neighbors K: 14 \n",
        "Score: 0.963555555556 for Neighbors K: 14 "
       ]
      },
      {
       "output_type": "stream",
       "stream": "stdout",
       "text": [
        "\n",
        "Score: 0.963555555556 for Neighbors K: 14 \n",
        "Score: 0.963555555556 for Neighbors K: 14 \n",
        "Score: 0.963555555556 for Neighbors K: 14 \n",
        "Score: 0.963555555556 for Neighbors K: 14 \n",
        "Score: 0.963555555556 for Neighbors K: 14 \n",
        "Score: 0.963555555556 for Neighbors K: 14 \n",
        "Score: 0.963555555556 for Neighbors K: 14 \n",
        "Score: 0.963555555556 for Neighbors K: 14 \n",
        "Score: 0.963555555556 for Neighbors K: 14 \n",
        "Score: 0.963555555556 for Neighbors K: 14 "
       ]
      },
      {
       "output_type": "stream",
       "stream": "stdout",
       "text": [
        "\n",
        "Score: 0.963555555556 for Neighbors K: 14 \n",
        "Score: 0.963555555556 for Neighbors K: 14 \n",
        "Score: 0.963555555556 for Neighbors K: 14 \n",
        "Score: 0.963555555556 for Neighbors K: 14 \n",
        "Score: 0.963555555556 for Neighbors K: 14 \n",
        "Score: 0.963555555556 for Neighbors K: 14 \n",
        "Score: 0.963555555556 for Neighbors K: 14 \n",
        "Score: 0.963555555556 for Neighbors K: 14 \n",
        "Score: 0.963555555556 for Neighbors K: 14 \n",
        "Score: 0.963555555556 for Neighbors K: 14 "
       ]
      },
      {
       "output_type": "stream",
       "stream": "stdout",
       "text": [
        "\n",
        "Score: 0.963555555556 for Neighbors K: 14 \n",
        "Score: 0.963555555556 for Neighbors K: 14 \n",
        "Score: 0.963555555556 for Neighbors K: 14 \n",
        "Score: 0.963555555556 for Neighbors K: 14 \n",
        "Score: 0.963555555556 for Neighbors K: 14 \n",
        "Score: 0.963555555556 for Neighbors K: 14 \n",
        "Score: 0.963555555556 for Neighbors K: 14 \n",
        "Score: 0.963555555556 for Neighbors K: 14 \n",
        "Score: 0.963555555556 for Neighbors K: 14 "
       ]
      },
      {
       "output_type": "stream",
       "stream": "stdout",
       "text": [
        "\n",
        "Score: 0.963555555556 for Neighbors K: 14 \n",
        "Score: 0.963555555556 for Neighbors K: 14 \n",
        "Score: 0.963555555556 for Neighbors K: 14 \n",
        "Score: 0.963555555556 for Neighbors K: 14 \n",
        "Score: 0.963555555556 for Neighbors K: 14 \n",
        "Score: 0.963555555556 for Neighbors K: 14 \n",
        "Score: 0.963555555556 for Neighbors K: 14 \n",
        "Score: 0.963555555556 for Neighbors K: 14 \n",
        "Score: 0.963555555556 for Neighbors K: 14 "
       ]
      },
      {
       "output_type": "stream",
       "stream": "stdout",
       "text": [
        "\n",
        "Score: 0.963555555556 for Neighbors K: 14 \n",
        "Score: 0.963555555556 for Neighbors K: 14 \n",
        "Score: 0.963555555556 for Neighbors K: 14 \n",
        "Score: 0.963555555556 for Neighbors K: 14 \n",
        "Score: 0.963555555556 for Neighbors K: 14 \n",
        "Score: 0.963555555556 for Neighbors K: 14 \n",
        "Score: 0.963555555556 for Neighbors K: 14 \n",
        "Score: 0.963555555556 for Neighbors K: 14 \n",
        "Score: 0.963555555556 for Neighbors K: 14 "
       ]
      },
      {
       "output_type": "stream",
       "stream": "stdout",
       "text": [
        "\n",
        "Score: 0.963555555556 for Neighbors K: 14 \n",
        "Score: 0.963555555556 for Neighbors K: 14 \n",
        "Score: 0.963555555556 for Neighbors K: 14 \n",
        "Score: 0.963555555556 for Neighbors K: 14 \n",
        "Score: 0.963555555556 for Neighbors K: 14 \n",
        "Score: 0.963555555556 for Neighbors K: 14 \n",
        "Score: 0.963555555556 for Neighbors K: 14 \n",
        "Score: 0.963555555556 for Neighbors K: 14 \n",
        "Score: 0.963555555556 for Neighbors K: 14 "
       ]
      },
      {
       "output_type": "stream",
       "stream": "stdout",
       "text": [
        "\n",
        "Score: 0.963555555556 for Neighbors K: 14 \n",
        "Score: 0.963555555556 for Neighbors K: 14 \n",
        "Score: 0.963555555556 for Neighbors K: 14 \n",
        "Score: 0.963555555556 for Neighbors K: 14 \n",
        "Score: 0.963555555556 for Neighbors K: 14 \n",
        "Score: 0.963555555556 for Neighbors K: 14 \n",
        "Score: 0.963555555556 for Neighbors K: 14 \n",
        "Score: 0.963555555556 for Neighbors K: 14 "
       ]
      },
      {
       "output_type": "stream",
       "stream": "stdout",
       "text": [
        "\n",
        "Score: 0.963555555556 for Neighbors K: 14 \n",
        "Score: 0.963555555556 for Neighbors K: 14 \n",
        "Score: 0.963555555556 for Neighbors K: 14 \n",
        "Score: 0.963555555556 for Neighbors K: 14 \n",
        "Score: 0.963555555556 for Neighbors K: 14 \n",
        "Score: 0.963555555556 for Neighbors K: 14 \n",
        "Score: 0.963555555556 for Neighbors K: 14 \n",
        "Score: 0.963555555556 for Neighbors K: 14 "
       ]
      },
      {
       "output_type": "stream",
       "stream": "stdout",
       "text": [
        "\n",
        "Score: 0.963555555556 for Neighbors K: 14 \n",
        "Score: 0.963555555556 for Neighbors K: 14 \n",
        "Score: 0.963555555556 for Neighbors K: 14 \n",
        "Score: 0.963555555556 for Neighbors K: 14 \n",
        "Score: 0.963555555556 for Neighbors K: 14 \n",
        "Score: 0.963555555556 for Neighbors K: 14 \n",
        "Score: 0.963555555556 for Neighbors K: 14 \n",
        "Score: 0.963555555556 for Neighbors K: 14 "
       ]
      },
      {
       "output_type": "stream",
       "stream": "stdout",
       "text": [
        "\n",
        "Score: 0.963555555556 for Neighbors K: 14 \n",
        "Score: 0.963555555556 for Neighbors K: 14 \n",
        "Score: 0.963555555556 for Neighbors K: 14 \n",
        "Score: 0.963555555556 for Neighbors K: 14 \n",
        "Score: 0.963555555556 for Neighbors K: 14 \n",
        "Score: 0.963555555556 for Neighbors K: 14 \n",
        "Score: 0.963555555556 for Neighbors K: 14 \n",
        "Score: 0.963555555556 for Neighbors K: 14 "
       ]
      },
      {
       "output_type": "stream",
       "stream": "stdout",
       "text": [
        "\n"
       ]
      }
     ],
     "prompt_number": 378
    },
    {
     "cell_type": "code",
     "collapsed": false,
     "input": [
      "#####Question 4\n",
      "%matplotlib inline\n",
      "import matplotlib.pyplot as plt\n",
      "import numpy as np\n",
      "\n",
      "rawScores = []\n",
      "meanScores = []\n",
      "\n",
      "#iterate through a range of neighbors and get the scores\n",
      "for n in xrange(1,121):\n",
      "    classifier = KNeighborsClassifier(n)\n",
      "    cv = KFold(len(X), n_folds = 5, shuffle = True)\n",
      "    rawScores.append(customXvalidation(classifier,X,y,cv=cv))\n",
      "\n",
      "# get the means for each K iteration\n",
      "    meanScores.append(np.array(rawScores).mean())\n",
      "    #print meanScores\n",
      "\n",
      "# identify max score and corresponding K for each iteration\n",
      "    maxScores = max(meanScores)\n",
      "    #print maxScores\n",
      "    maxIndex = meanScores.index(maxScores)\n",
      "    \n",
      "    y_scores = []\n",
      "    x_k = []\n",
      "    y_scores.append(maxScores)\n",
      "    x_k.append(maxIndex)\n",
      "\n",
      "    y = np.array(y_scores)\n",
      "    x = np.array(x_k)\n",
      "\n",
      "    plt.xlabel('K')\n",
      "    plt.ylabel('Score')\n",
      "    plt.scatter(x,y)\n",
      "    plt.show()"
     ],
     "language": "python",
     "metadata": {},
     "outputs": [
      {
       "metadata": {},
       "output_type": "display_data",
       "png": "[encoded data removed]",
       "text": [
        "<matplotlib.figure.Figure at 0x10980f810>"
       ]
      },
      {
       "ename": "IndexError",
       "evalue": "index 1 is out of bounds for axis 1 with size 1",
       "output_type": "pyerr",
       "traceback": [
        "\u001b[0;31m---------------------------------------------------------------------------\u001b[0m\n\u001b[0;31mIndexError\u001b[0m                                Traceback (most recent call last)",
        "\u001b[0;32m<ipython-input-392-90533557a29c>\u001b[0m in \u001b[0;36m<module>\u001b[0;34m()\u001b[0m\n\u001b[1;32m     11\u001b[0m     \u001b[0mclassifier\u001b[0m \u001b[0;34m=\u001b[0m \u001b[0mKNeighborsClassifier\u001b[0m\u001b[0;34m(\u001b[0m\u001b[0mn\u001b[0m\u001b[0;34m)\u001b[0m\u001b[0;34m\u001b[0m\u001b[0m\n\u001b[1;32m     12\u001b[0m     \u001b[0mcv\u001b[0m \u001b[0;34m=\u001b[0m \u001b[0mKFold\u001b[0m\u001b[0;34m(\u001b[0m\u001b[0mlen\u001b[0m\u001b[0;34m(\u001b[0m\u001b[0mX\u001b[0m\u001b[0;34m)\u001b[0m\u001b[0;34m,\u001b[0m \u001b[0mn_folds\u001b[0m \u001b[0;34m=\u001b[0m \u001b[0;36m5\u001b[0m\u001b[0;34m,\u001b[0m \u001b[0mshuffle\u001b[0m \u001b[0;34m=\u001b[0m \u001b[0mTrue\u001b[0m\u001b[0;34m)\u001b[0m\u001b[0;34m\u001b[0m\u001b[0m\n\u001b[0;32m---> 13\u001b[0;31m     \u001b[0mrawScores\u001b[0m\u001b[0;34m.\u001b[0m\u001b[0mappend\u001b[0m\u001b[0;34m(\u001b[0m\u001b[0mcustomXvalidation\u001b[0m\u001b[0;34m(\u001b[0m\u001b[0mclassifier\u001b[0m\u001b[0;34m,\u001b[0m\u001b[0mX\u001b[0m\u001b[0;34m,\u001b[0m\u001b[0my\u001b[0m\u001b[0;34m,\u001b[0m\u001b[0mcv\u001b[0m\u001b[0;34m=\u001b[0m\u001b[0mcv\u001b[0m\u001b[0;34m)\u001b[0m\u001b[0;34m)\u001b[0m\u001b[0;34m\u001b[0m\u001b[0m\n\u001b[0m\u001b[1;32m     14\u001b[0m \u001b[0;34m\u001b[0m\u001b[0m\n\u001b[1;32m     15\u001b[0m \u001b[0;31m# get the means for each K iteration\u001b[0m\u001b[0;34m\u001b[0m\u001b[0;34m\u001b[0m\u001b[0m\n",
        "\u001b[0;32m<ipython-input-391-50657010cfb2>\u001b[0m in \u001b[0;36mcustomXvalidation\u001b[0;34m(classifier, X, y, cv)\u001b[0m\n\u001b[1;32m     25\u001b[0m \u001b[0;34m\u001b[0m\u001b[0m\n\u001b[1;32m     26\u001b[0m     \u001b[0;32mfor\u001b[0m \u001b[0mtrain\u001b[0m\u001b[0;34m,\u001b[0m \u001b[0mtest\u001b[0m \u001b[0;32min\u001b[0m \u001b[0mcv\u001b[0m\u001b[0;34m:\u001b[0m\u001b[0;34m\u001b[0m\u001b[0m\n\u001b[0;32m---> 27\u001b[0;31m         \u001b[0mmyknn\u001b[0m \u001b[0;34m=\u001b[0m \u001b[0mclassifier\u001b[0m\u001b[0;34m.\u001b[0m\u001b[0mfit\u001b[0m\u001b[0;34m(\u001b[0m\u001b[0mX\u001b[0m\u001b[0;34m[\u001b[0m\u001b[0mtrain\u001b[0m\u001b[0;34m]\u001b[0m\u001b[0;34m,\u001b[0m \u001b[0my\u001b[0m\u001b[0;34m[\u001b[0m\u001b[0mtrain\u001b[0m\u001b[0;34m]\u001b[0m\u001b[0;34m)\u001b[0m\u001b[0;34m\u001b[0m\u001b[0m\n\u001b[0m\u001b[1;32m     28\u001b[0m         \u001b[0mscores\u001b[0m\u001b[0;34m.\u001b[0m\u001b[0mappend\u001b[0m\u001b[0;34m(\u001b[0m\u001b[0mmyknn\u001b[0m\u001b[0;34m.\u001b[0m\u001b[0mscore\u001b[0m\u001b[0;34m(\u001b[0m\u001b[0mX\u001b[0m\u001b[0;34m[\u001b[0m\u001b[0mtest\u001b[0m\u001b[0;34m]\u001b[0m\u001b[0;34m,\u001b[0m \u001b[0my\u001b[0m\u001b[0;34m[\u001b[0m\u001b[0mtest\u001b[0m\u001b[0;34m]\u001b[0m\u001b[0;34m)\u001b[0m\u001b[0;34m)\u001b[0m\u001b[0;34m\u001b[0m\u001b[0m\n\u001b[1;32m     29\u001b[0m \u001b[0;34m\u001b[0m\u001b[0m\n",
        "\u001b[0;31mIndexError\u001b[0m: index 1 is out of bounds for axis 1 with size 1"
       ]
      }
     ],
     "prompt_number": 392
    },
    {
     "cell_type": "code",
     "collapsed": false,
     "input": [],
     "language": "python",
     "metadata": {},
     "outputs": [],
     "prompt_number": 380
    },
    {
     "cell_type": "code",
     "collapsed": false,
     "input": [],
     "language": "python",
     "metadata": {},
     "outputs": []
    }
   ],
   "metadata": {}
  }
 ]
}